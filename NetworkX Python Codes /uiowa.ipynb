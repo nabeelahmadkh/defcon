{
 "cells": [
  {
   "cell_type": "code",
   "execution_count": 1,
   "metadata": {},
   "outputs": [
    {
     "name": "stdout",
     "output_type": "stream",
     "text": [
      "Execution of this block completed\n"
     ]
    }
   ],
   "source": [
    "import numpy as np \n",
    "import pandas as pd\n",
    "import networkx as nx\n",
    "import matplotlib.pyplot as plt\n",
    "#from pyspark import SparkContext    #No need for this code \n",
    "from time import time\n",
    "from random import randint\n",
    "\n",
    "# in the final code did not use Spark Context \n",
    "#sc = SparkContext.getOrCreate()\n",
    "\n",
    "\n",
    "#Loading the data file.\n",
    "train_df = pd.read_csv(\"/Users/nabeel/Desktop/Peer to Peer & Social Networks/Project/uiowaCrawler.csv\")\n",
    "\n",
    "print(\"Execution of this block completed\")"
   ]
  },
  {
   "cell_type": "code",
   "execution_count": 4,
   "metadata": {},
   "outputs": [
    {
     "name": "stdout",
     "output_type": "stream",
     "text": [
      "('Length of URL is ', 31605793)\n",
      "('Length of Unique URL is ', 746229)\n",
      "Execution of this block completed\n"
     ]
    }
   ],
   "source": [
    "lengthOfUrl = len(train_df['URL'])\n",
    "lengthOfUrlUnique = len(train_df['URL'].unique())\n",
    "print(\"Length of URL is \",lengthOfUrl)\n",
    "print(\"Length of Unique URL is \",lengthOfUrlUnique)\n",
    "\n",
    "print(\"Execution of this block completed\")"
   ]
  },
  {
   "cell_type": "code",
   "execution_count": 4,
   "metadata": {
    "collapsed": true,
    "scrolled": true
   },
   "outputs": [],
   "source": [
    "#train_df.head()"
   ]
  },
  {
   "cell_type": "code",
   "execution_count": 5,
   "metadata": {},
   "outputs": [
    {
     "name": "stdout",
     "output_type": "stream",
     "text": [
      "('Length of links are ', 31605793)\n",
      "('Length of Unique Links are ', 1287331)\n",
      "Execution of this block completed\n"
     ]
    }
   ],
   "source": [
    "lengthOfLinks = len(train_df['links'])\n",
    "lengthOfLinksUnique = len(train_df['links'].unique())\n",
    "print(\"Length of links are \",lengthOfLinks)\n",
    "print(\"Length of Unique Links are \",lengthOfLinksUnique)\n",
    "\n",
    "print(\"Execution of this block completed\")"
   ]
  },
  {
   "cell_type": "code",
   "execution_count": 7,
   "metadata": {
    "collapsed": true
   },
   "outputs": [],
   "source": [
    "randomNumber = []\n",
    "count = 0\n",
    "for i in range(100000):\n",
    "    randomNumber.append(i)\n"
   ]
  },
  {
   "cell_type": "code",
   "execution_count": 25,
   "metadata": {},
   "outputs": [
    {
     "name": "stdout",
     "output_type": "stream",
     "text": [
      "Execution of this block completed\n"
     ]
    }
   ],
   "source": [
    "UrlColumn = []\n",
    "UrlColumn = train_df['URL']\n",
    "#UrlColumn = UrlColumn[:10000]\n",
    "UrlColumnRandom = []\n",
    "\n",
    "for i in range(10000):\n",
    "    UrlColumnRandom.append(UrlColumn[randomNumber[i]])\n",
    "\n",
    "print(\"Execution of this block completed\")"
   ]
  },
  {
   "cell_type": "code",
   "execution_count": 26,
   "metadata": {},
   "outputs": [
    {
     "name": "stdout",
     "output_type": "stream",
     "text": [
      "Execution of this block completed\n"
     ]
    }
   ],
   "source": [
    "LinksColumn = []\n",
    "LinksColumn = train_df['links']\n",
    "#LinksColumn = LinksColumn[:10000]\n",
    "LinksColumnRandom = []\n",
    "\n",
    "for i in range(10000):\n",
    "    LinksColumnRandom.append(LinksColumn[randomNumber[i]])\n",
    "\n",
    "print(\"Execution of this block completed\")"
   ]
  },
  {
   "cell_type": "code",
   "execution_count": 10,
   "metadata": {
    "collapsed": true
   },
   "outputs": [],
   "source": [
    "#print(\"Urls are \",UrlColumnRandom)"
   ]
  },
  {
   "cell_type": "code",
   "execution_count": 11,
   "metadata": {},
   "outputs": [
    {
     "name": "stdout",
     "output_type": "stream",
     "text": [
      "Execution of this block completed\n"
     ]
    }
   ],
   "source": [
    "# Code for initializing Spark RDD\n",
    "#UrlColumnSparkDataFrame = sc.parallelize(UrlColumnRandom)\n",
    "#LinkColumnSparkDataFrame = sc.parallelize(LinksColumnRandom)\n",
    "\n",
    "print(\"Execution of this block completed\")"
   ]
  },
  {
   "cell_type": "code",
   "execution_count": 12,
   "metadata": {},
   "outputs": [
    {
     "name": "stdout",
     "output_type": "stream",
     "text": [
      "('the length of the UrlColumn is', 50000)\n"
     ]
    }
   ],
   "source": [
    "# counting nodes using PySpark\n",
    "#print(\"the length of the UrlColumn is\",UrlColumnSparkDataFrame.count())"
   ]
  },
  {
   "cell_type": "code",
   "execution_count": 27,
   "metadata": {},
   "outputs": [
    {
     "name": "stdout",
     "output_type": "stream",
     "text": [
      "('the length of the UrlColumn is', 10000)\n",
      "('the length of the LinksColumn is', 10000)\n"
     ]
    }
   ],
   "source": [
    "# calculating length using python \n",
    "print(\"the length of the UrlColumn is\",len(UrlColumnRandom))\n",
    "print(\"the length of the LinksColumn is\",len(LinksColumnRandom))"
   ]
  },
  {
   "cell_type": "code",
   "execution_count": 12,
   "metadata": {},
   "outputs": [
    {
     "name": "stdout",
     "output_type": "stream",
     "text": [
      "Execution of this block completed\n"
     ]
    }
   ],
   "source": [
    "#linksCountNotContainingUiowa = LinkColumnSparkDataFrame.filter(lambda x: 'uiowa.edu' not in x)\n",
    "#t0 = time()\n",
    "#LinksCountRandomNotContainingUiowaCount = linksCountNotContainingUiowa.count()\n",
    "#tt = time() - t0\n",
    "\n",
    "#print \"There are {} 'uiowa.edu' pages\".format(LinksCountRandomNotContainingUiowaCount)\n",
    "#print \"Count completed in {} seconds\".format(round(tt,3))\n",
    "#print(\"linksCountNotContainingUiowa is\",linksCountNotContainingUiowa.count())\n",
    "\n",
    "print(\"Execution of this block completed\")"
   ]
  },
  {
   "cell_type": "code",
   "execution_count": 28,
   "metadata": {},
   "outputs": [
    {
     "name": "stdout",
     "output_type": "stream",
     "text": [
      "Count completed in 0.004 seconds\n",
      "('Length of UrlColumnUpdated not containing uiowa.edu are ', 0)\n",
      "('Length of LinksColumnUpdated not containing uiowa.edu are ', 771)\n",
      "Execution of this block completed\n"
     ]
    }
   ],
   "source": [
    "x2 = []\n",
    "\n",
    "for i in UrlColumnRandom:\n",
    "    if 'uiowa.edu' not in i:\n",
    "        x2.append(i)\n",
    "x3 = []\n",
    "\n",
    "t0 = time()\n",
    "for i in LinksColumnRandom:\n",
    "    if 'uiowa.edu' not in i:\n",
    "        x3.append(i)\n",
    "tt = time() - t0\n",
    "        \n",
    "print \"Count completed in {} seconds\".format(round(tt,3))\n",
    "print(\"Length of UrlColumnUpdated not containing uiowa.edu are \",len(x2))\n",
    "print(\"Length of LinksColumnUpdated not containing uiowa.edu are \",len(x3))\n",
    "\n",
    "print(\"Execution of this block completed\")"
   ]
  },
  {
   "cell_type": "code",
   "execution_count": 29,
   "metadata": {},
   "outputs": [
    {
     "name": "stdout",
     "output_type": "stream",
     "text": [
      "Execution of this block completed\n"
     ]
    }
   ],
   "source": [
    "# Finding rows which does not contain Uiowa.edu domain and adding them in a List rowsToBeDeleted \n",
    "rowsToBeDeleted = []\n",
    "def findExtraRows():\n",
    "    for i in range(10000):\n",
    "        if ('uiowa.edu' not in LinksColumnRandom[i]) or ('uiowa.edu' not in UrlColumnRandom[i]):\n",
    "            rowsToBeDeleted.append(i)\n",
    "findExtraRows()\n",
    "print(\"Execution of this block completed\")"
   ]
  },
  {
   "cell_type": "code",
   "execution_count": 30,
   "metadata": {},
   "outputs": [
    {
     "name": "stdout",
     "output_type": "stream",
     "text": [
      "('The length of rows that are to be deleted ', 771)\n",
      "Execution of this block completed\n"
     ]
    }
   ],
   "source": [
    "# Displaying the number of rows to be deleted\n",
    "print(\"The length of rows that are to be deleted \",len(rowsToBeDeleted))\n",
    "#print(\"The rows to be deleted are \",rowsToBeDeleted)\n",
    "print(\"Execution of this block completed\")"
   ]
  },
  {
   "cell_type": "code",
   "execution_count": 20,
   "metadata": {
    "collapsed": true
   },
   "outputs": [],
   "source": [
    "#print(\"Urls are \",UrlColumnRandom)\n",
    "#print(\"LinksColumn are \",LinksColumnRandom)\n",
    "#print(\"ROws to be deleted are \",rowsToBeDeleted)"
   ]
  },
  {
   "cell_type": "code",
   "execution_count": 31,
   "metadata": {},
   "outputs": [
    {
     "name": "stdout",
     "output_type": "stream",
     "text": [
      "Execution of this block completed\n"
     ]
    }
   ],
   "source": [
    "# Deleting the rows that does not contain 'uiowa.edu' \n",
    "temp1 = list(UrlColumnRandom)\n",
    "temp2 = list(LinksColumnRandom)\n",
    "for i in rowsToBeDeleted:\n",
    "    #print(i)\n",
    "    temp1.remove(UrlColumnRandom[i])\n",
    "    temp2.remove(LinksColumnRandom[i])\n",
    "    \n",
    "print(\"Execution of this block completed\")"
   ]
  },
  {
   "cell_type": "code",
   "execution_count": 32,
   "metadata": {
    "scrolled": false
   },
   "outputs": [
    {
     "name": "stdout",
     "output_type": "stream",
     "text": [
      "('Length of UrlColumn random is', 10000)\n",
      "('Length of LinksColumn random is', 10000)\n",
      "('Length of temp1 is', 9229)\n",
      "('Length of temp2 is', 9229)\n",
      "('Length of UrlColumn random is', 9229)\n",
      "('Length of LinksColumn random is', 9229)\n",
      "('Length of temp1 is', 9229)\n",
      "('Length of temp2 is', 9229)\n"
     ]
    }
   ],
   "source": [
    "print(\"Length of UrlColumn random is\",len(UrlColumnRandom))\n",
    "print(\"Length of LinksColumn random is\",len(LinksColumnRandom))\n",
    "print(\"Length of temp1 is\",len(temp1))\n",
    "print(\"Length of temp2 is\",len(temp2))\n",
    "\n",
    "UrlColumnRandom = list(temp1)\n",
    "LinksColumnRandom = list(temp2)\n",
    "\n",
    "print(\"Length of UrlColumn random is\",len(UrlColumnRandom))\n",
    "print(\"Length of LinksColumn random is\",len(LinksColumnRandom))\n",
    "print(\"Length of temp1 is\",len(temp1))\n",
    "print(\"Length of temp2 is\",len(temp2))"
   ]
  },
  {
   "cell_type": "code",
   "execution_count": 33,
   "metadata": {},
   "outputs": [
    {
     "name": "stdout",
     "output_type": "stream",
     "text": [
      "Execution of this block completed\n"
     ]
    }
   ],
   "source": [
    "# Converting List into DataFrame\n",
    "uiowaDataFrame = pd.DataFrame(\n",
    "    {'Url': UrlColumnRandom,\n",
    "     'Link': LinksColumnRandom\n",
    "    })\n",
    "\n",
    "print(\"Execution of this block completed\")"
   ]
  },
  {
   "cell_type": "code",
   "execution_count": 13,
   "metadata": {},
   "outputs": [
    {
     "name": "stdout",
     "output_type": "stream",
     "text": [
      "Execution of this block completed\n"
     ]
    }
   ],
   "source": [
    "# Converting data frame into CSV File \n",
    "\n",
    "uiowaDataFrame.to_csv('/Users/nabeel/Desktop/Peer to Peer & Social Networks/Project/uiowaReducedDataSet3.csv', sep=',', index=False)\n",
    "\n",
    "print(\"Execution of this block completed\")"
   ]
  },
  {
   "cell_type": "code",
   "execution_count": 34,
   "metadata": {},
   "outputs": [
    {
     "name": "stdout",
     "output_type": "stream",
     "text": [
      "('Length of UrlColumn & LinksColumn after deletion is ', 9229, 9229)\n",
      "Execution of this block completed\n"
     ]
    }
   ],
   "source": [
    "print(\"Length of UrlColumn & LinksColumn after deletion is \",len(UrlColumnRandom),len(LinksColumnRandom))\n",
    "print(\"Execution of this block completed\")"
   ]
  },
  {
   "cell_type": "code",
   "execution_count": 180,
   "metadata": {
    "collapsed": true
   },
   "outputs": [],
   "source": [
    "#Resetting index after deletion\n",
    "\n",
    "#UrlColumn = UrlColumn.reset_index(drop=True)\n",
    "#LinksColumn = LinksColumn.reset_index(drop=True)\n",
    "\n",
    "#print(\"Th new UrlColumnUpdated is \",UrlColumn)\n",
    "#print(\"The new LinksColumnUpdtaed is \",LinksColumn)"
   ]
  },
  {
   "cell_type": "code",
   "execution_count": 35,
   "metadata": {},
   "outputs": [
    {
     "name": "stdout",
     "output_type": "stream",
     "text": [
      "('Length of the UrlColumn after Editing is ', 9229)\n",
      "('Length of the LinksColumn after Editing is ', 9229)\n",
      "Execution of this block completed\n"
     ]
    }
   ],
   "source": [
    "# Finding the length of the new UrlColumn and LinksColumn\n",
    "lengthOfUrlAfterEditing = len(UrlColumnRandom)\n",
    "lengthOfLinksAfterEditing = len(LinksColumnRandom)\n",
    "\n",
    "print(\"Length of the UrlColumn after Editing is \",lengthOfUrlAfterEditing)\n",
    "print(\"Length of the LinksColumn after Editing is \",lengthOfLinksAfterEditing)\n",
    "\n",
    "print(\"Execution of this block completed\")"
   ]
  },
  {
   "cell_type": "code",
   "execution_count": 37,
   "metadata": {},
   "outputs": [
    {
     "name": "stdout",
     "output_type": "stream",
     "text": [
      "('The number of element in dictionary is ', 4666)\n",
      "Execution of this block completed\n"
     ]
    }
   ],
   "source": [
    "# Mapping URL's to number in a Dictionary\n",
    "UrlToNumberMapping = {}\n",
    "count = 0\n",
    "#print(\"UrlColumn and LinksColumn are\",UrlColumn[1000])\n",
    "for i in range(9229):\n",
    "    #print(\"UrlColumn and LinksColumn are \",UrlColumn[i],LinksColumn[i],i)\n",
    "    if LinksColumnRandom[i] not in UrlToNumberMapping:\n",
    "        UrlToNumberMapping[LinksColumnRandom[i]] = count \n",
    "        count += 1\n",
    "    if UrlColumnRandom[i] not in UrlToNumberMapping:\n",
    "        UrlToNumberMapping[UrlColumnRandom[i]] = count\n",
    "        count += 1\n",
    "#print(\"UrlToNumberMapping Dictionary Value is \",UrlToNumberMapping)\n",
    "\n",
    "print(\"The number of element in dictionary is \",count)\n",
    "print(\"Execution of this block completed\")"
   ]
  },
  {
   "cell_type": "code",
   "execution_count": 38,
   "metadata": {},
   "outputs": [
    {
     "name": "stdout",
     "output_type": "stream",
     "text": [
      "('The number of nodes are ', 4666)\n",
      "Execution of this block completed\n"
     ]
    }
   ],
   "source": [
    "# Printing the number of nodes \n",
    "print(\"The number of nodes are \",len(UrlToNumberMapping.keys()))\n",
    "\n",
    "print(\"Execution of this block completed\")"
   ]
  },
  {
   "cell_type": "code",
   "execution_count": 41,
   "metadata": {
    "scrolled": false
   },
   "outputs": [
    {
     "name": "stdout",
     "output_type": "stream",
     "text": [
      "Execution of this block completed\n"
     ]
    }
   ],
   "source": [
    "# Creating Graph \n",
    "G = nx.Graph()\n",
    "nodeAdded = {}\n",
    "for i in range(9229):\n",
    "    #print(\"URL \",UrlColumn[i])\n",
    "    #print(\"LinksColumn\",LinksColumn[i])\n",
    "    if UrlColumnRandom[i] not in nodeAdded:\n",
    "        G.add_node(UrlColumnRandom[i])\n",
    "        nodeAdded[UrlColumnRandom[i]] = \"yes\"\n",
    "    if LinksColumnRandom[i] not in nodeAdded:\n",
    "        G.add_node(LinksColumnRandom[i])\n",
    "        nodeAdded[LinksColumnRandom[i]] = \"yes\"\n",
    "for i in range(9229):\n",
    "    G.add_edge(UrlColumnRandom[i],LinksColumnRandom[i])\n",
    "\n",
    "print(\"Execution of this block completed\")"
   ]
  },
  {
   "cell_type": "code",
   "execution_count": 42,
   "metadata": {},
   "outputs": [
    {
     "name": "stdout",
     "output_type": "stream",
     "text": [
      "('The graph is connected ', False)\n",
      "('The number of Connected components are ', 2)\n",
      "('The info about graph is ', 1, True)\n",
      "('The number of nodes in the graph are ', 4663)\n",
      "('The number of nodes in the graph are ', 3)\n"
     ]
    }
   ],
   "source": [
    "isConnected = nx.is_connected(G)\n",
    "print(\"The graph is connected \",isConnected)\n",
    "\n",
    "numberOfConnectedComponents = nx.number_connected_components(G)\n",
    "print(\"The number of Connected components are \",numberOfConnectedComponents)\n",
    "\n",
    "graphs = list(nx.connected_component_subgraphs(G))\n",
    "\n",
    "print(\"The info about graph is \",nx.number_connected_components(graphs[0]),nx.is_connected(graphs[0]))\n",
    "print(\"The number of nodes in the graph are \", nx.number_of_nodes(graphs[0]))\n",
    "print(\"The number of nodes in the graph are \", nx.number_of_nodes(graphs[1]))\n",
    "\n"
   ]
  },
  {
   "cell_type": "code",
   "execution_count": 43,
   "metadata": {},
   "outputs": [
    {
     "data": {
      "image/png": "[encoded data removed]",
      "text/plain": [
       "<matplotlib.figure.Figure at 0x1549db5e10>"
      ]
     },
     "metadata": {},
     "output_type": "display_data"
    },
    {
     "name": "stdout",
     "output_type": "stream",
     "text": [
      "('NetworkX Calculated Diameter of the Graph is ', 10)\n",
      "Name: \n",
      "Type: Graph\n",
      "Number of nodes: 4663\n",
      "Number of edges: 8797\n",
      "Average degree:   3.7731\n"
     ]
    },
    {
     "ename": "ValueError",
     "evalue": "x and y must have same first dimension, but have shapes (10000,) and (672,)",
     "output_type": "error",
     "traceback": [
      "\u001b[0;31m---------------------------------------------------------------------------\u001b[0m",
      "\u001b[0;31mValueError\u001b[0m                                Traceback (most recent call last)",
      "\u001b[0;32m<ipython-input-43-265becdb4811>\u001b[0m in \u001b[0;36m<module>\u001b[0;34m()\u001b[0m\n\u001b[1;32m     10\u001b[0m \u001b[0;31m#print(\"NetworkX Calculated Degree Distribution is \", degreeD)\u001b[0m\u001b[0;34m\u001b[0m\u001b[0;34m\u001b[0m\u001b[0m\n\u001b[1;32m     11\u001b[0m \u001b[0mxaxis\u001b[0m \u001b[0;34m=\u001b[0m \u001b[0mrange\u001b[0m\u001b[0;34m(\u001b[0m\u001b[0;36m0\u001b[0m\u001b[0;34m,\u001b[0m\u001b[0;36m10000\u001b[0m\u001b[0;34m)\u001b[0m\u001b[0;34m\u001b[0m\u001b[0m\n\u001b[0;32m---> 12\u001b[0;31m \u001b[0mplt\u001b[0m\u001b[0;34m.\u001b[0m\u001b[0mplot\u001b[0m\u001b[0;34m(\u001b[0m\u001b[0mxaxis\u001b[0m\u001b[0;34m,\u001b[0m \u001b[0mdegreeD\u001b[0m\u001b[0;34m)\u001b[0m\u001b[0;34m\u001b[0m\u001b[0m\n\u001b[0m\u001b[1;32m     13\u001b[0m \u001b[0mplt\u001b[0m\u001b[0;34m.\u001b[0m\u001b[0mshow\u001b[0m\u001b[0;34m(\u001b[0m\u001b[0;34m)\u001b[0m\u001b[0;34m\u001b[0m\u001b[0m\n\u001b[1;32m     14\u001b[0m \u001b[0;34m\u001b[0m\u001b[0m\n",
      "\u001b[0;32m/Users/nabeel/anaconda2/lib/python2.7/site-packages/matplotlib/pyplot.pyc\u001b[0m in \u001b[0;36mplot\u001b[0;34m(*args, **kwargs)\u001b[0m\n\u001b[1;32m   3238\u001b[0m                       mplDeprecation)\n\u001b[1;32m   3239\u001b[0m     \u001b[0;32mtry\u001b[0m\u001b[0;34m:\u001b[0m\u001b[0;34m\u001b[0m\u001b[0m\n\u001b[0;32m-> 3240\u001b[0;31m         \u001b[0mret\u001b[0m \u001b[0;34m=\u001b[0m \u001b[0max\u001b[0m\u001b[0;34m.\u001b[0m\u001b[0mplot\u001b[0m\u001b[0;34m(\u001b[0m\u001b[0;34m*\u001b[0m\u001b[0margs\u001b[0m\u001b[0;34m,\u001b[0m \u001b[0;34m**\u001b[0m\u001b[0mkwargs\u001b[0m\u001b[0;34m)\u001b[0m\u001b[0;34m\u001b[0m\u001b[0m\n\u001b[0m\u001b[1;32m   3241\u001b[0m     \u001b[0;32mfinally\u001b[0m\u001b[0;34m:\u001b[0m\u001b[0;34m\u001b[0m\u001b[0m\n\u001b[1;32m   3242\u001b[0m         \u001b[0max\u001b[0m\u001b[0;34m.\u001b[0m\u001b[0m_hold\u001b[0m \u001b[0;34m=\u001b[0m \u001b[0mwashold\u001b[0m\u001b[0;34m\u001b[0m\u001b[0m\n",
      "\u001b[0;32m/Users/nabeel/anaconda2/lib/python2.7/site-packages/matplotlib/__init__.pyc\u001b[0m in \u001b[0;36minner\u001b[0;34m(ax, *args, **kwargs)\u001b[0m\n\u001b[1;32m   1708\u001b[0m                     warnings.warn(msg % (label_namer, func.__name__),\n\u001b[1;32m   1709\u001b[0m                                   RuntimeWarning, stacklevel=2)\n\u001b[0;32m-> 1710\u001b[0;31m             \u001b[0;32mreturn\u001b[0m \u001b[0mfunc\u001b[0m\u001b[0;34m(\u001b[0m\u001b[0max\u001b[0m\u001b[0;34m,\u001b[0m \u001b[0;34m*\u001b[0m\u001b[0margs\u001b[0m\u001b[0;34m,\u001b[0m \u001b[0;34m**\u001b[0m\u001b[0mkwargs\u001b[0m\u001b[0;34m)\u001b[0m\u001b[0;34m\u001b[0m\u001b[0m\n\u001b[0m\u001b[1;32m   1711\u001b[0m         \u001b[0mpre_doc\u001b[0m \u001b[0;34m=\u001b[0m \u001b[0minner\u001b[0m\u001b[0;34m.\u001b[0m\u001b[0m__doc__\u001b[0m\u001b[0;34m\u001b[0m\u001b[0m\n\u001b[1;32m   1712\u001b[0m         \u001b[0;32mif\u001b[0m \u001b[0mpre_doc\u001b[0m \u001b[0;32mis\u001b[0m \u001b[0mNone\u001b[0m\u001b[0;34m:\u001b[0m\u001b[0;34m\u001b[0m\u001b[0m\n",
      "\u001b[0;32m/Users/nabeel/anaconda2/lib/python2.7/site-packages/matplotlib/axes/_axes.pyc\u001b[0m in \u001b[0;36mplot\u001b[0;34m(self, *args, **kwargs)\u001b[0m\n\u001b[1;32m   1435\u001b[0m         \u001b[0mkwargs\u001b[0m \u001b[0;34m=\u001b[0m \u001b[0mcbook\u001b[0m\u001b[0;34m.\u001b[0m\u001b[0mnormalize_kwargs\u001b[0m\u001b[0;34m(\u001b[0m\u001b[0mkwargs\u001b[0m\u001b[0;34m,\u001b[0m \u001b[0m_alias_map\u001b[0m\u001b[0;34m)\u001b[0m\u001b[0;34m\u001b[0m\u001b[0m\n\u001b[1;32m   1436\u001b[0m \u001b[0;34m\u001b[0m\u001b[0m\n\u001b[0;32m-> 1437\u001b[0;31m         \u001b[0;32mfor\u001b[0m \u001b[0mline\u001b[0m \u001b[0;32min\u001b[0m \u001b[0mself\u001b[0m\u001b[0;34m.\u001b[0m\u001b[0m_get_lines\u001b[0m\u001b[0;34m(\u001b[0m\u001b[0;34m*\u001b[0m\u001b[0margs\u001b[0m\u001b[0;34m,\u001b[0m \u001b[0;34m**\u001b[0m\u001b[0mkwargs\u001b[0m\u001b[0;34m)\u001b[0m\u001b[0;34m:\u001b[0m\u001b[0;34m\u001b[0m\u001b[0m\n\u001b[0m\u001b[1;32m   1438\u001b[0m             \u001b[0mself\u001b[0m\u001b[0;34m.\u001b[0m\u001b[0madd_line\u001b[0m\u001b[0;34m(\u001b[0m\u001b[0mline\u001b[0m\u001b[0;34m)\u001b[0m\u001b[0;34m\u001b[0m\u001b[0m\n\u001b[1;32m   1439\u001b[0m             \u001b[0mlines\u001b[0m\u001b[0;34m.\u001b[0m\u001b[0mappend\u001b[0m\u001b[0;34m(\u001b[0m\u001b[0mline\u001b[0m\u001b[0;34m)\u001b[0m\u001b[0;34m\u001b[0m\u001b[0m\n",
      "\u001b[0;32m/Users/nabeel/anaconda2/lib/python2.7/site-packages/matplotlib/axes/_base.pyc\u001b[0m in \u001b[0;36m_grab_next_args\u001b[0;34m(self, *args, **kwargs)\u001b[0m\n\u001b[1;32m    402\u001b[0m                 \u001b[0mthis\u001b[0m \u001b[0;34m+=\u001b[0m \u001b[0margs\u001b[0m\u001b[0;34m[\u001b[0m\u001b[0;36m0\u001b[0m\u001b[0;34m]\u001b[0m\u001b[0;34m,\u001b[0m\u001b[0;34m\u001b[0m\u001b[0m\n\u001b[1;32m    403\u001b[0m                 \u001b[0margs\u001b[0m \u001b[0;34m=\u001b[0m \u001b[0margs\u001b[0m\u001b[0;34m[\u001b[0m\u001b[0;36m1\u001b[0m\u001b[0;34m:\u001b[0m\u001b[0;34m]\u001b[0m\u001b[0;34m\u001b[0m\u001b[0m\n\u001b[0;32m--> 404\u001b[0;31m             \u001b[0;32mfor\u001b[0m \u001b[0mseg\u001b[0m \u001b[0;32min\u001b[0m \u001b[0mself\u001b[0m\u001b[0;34m.\u001b[0m\u001b[0m_plot_args\u001b[0m\u001b[0;34m(\u001b[0m\u001b[0mthis\u001b[0m\u001b[0;34m,\u001b[0m \u001b[0mkwargs\u001b[0m\u001b[0;34m)\u001b[0m\u001b[0;34m:\u001b[0m\u001b[0;34m\u001b[0m\u001b[0m\n\u001b[0m\u001b[1;32m    405\u001b[0m                 \u001b[0;32myield\u001b[0m \u001b[0mseg\u001b[0m\u001b[0;34m\u001b[0m\u001b[0m\n\u001b[1;32m    406\u001b[0m \u001b[0;34m\u001b[0m\u001b[0m\n",
      "\u001b[0;32m/Users/nabeel/anaconda2/lib/python2.7/site-packages/matplotlib/axes/_base.pyc\u001b[0m in \u001b[0;36m_plot_args\u001b[0;34m(self, tup, kwargs)\u001b[0m\n\u001b[1;32m    382\u001b[0m             \u001b[0mx\u001b[0m\u001b[0;34m,\u001b[0m \u001b[0my\u001b[0m \u001b[0;34m=\u001b[0m \u001b[0mindex_of\u001b[0m\u001b[0;34m(\u001b[0m\u001b[0mtup\u001b[0m\u001b[0;34m[\u001b[0m\u001b[0;34m-\u001b[0m\u001b[0;36m1\u001b[0m\u001b[0;34m]\u001b[0m\u001b[0;34m)\u001b[0m\u001b[0;34m\u001b[0m\u001b[0m\n\u001b[1;32m    383\u001b[0m \u001b[0;34m\u001b[0m\u001b[0m\n\u001b[0;32m--> 384\u001b[0;31m         \u001b[0mx\u001b[0m\u001b[0;34m,\u001b[0m \u001b[0my\u001b[0m \u001b[0;34m=\u001b[0m \u001b[0mself\u001b[0m\u001b[0;34m.\u001b[0m\u001b[0m_xy_from_xy\u001b[0m\u001b[0;34m(\u001b[0m\u001b[0mx\u001b[0m\u001b[0;34m,\u001b[0m \u001b[0my\u001b[0m\u001b[0;34m)\u001b[0m\u001b[0;34m\u001b[0m\u001b[0m\n\u001b[0m\u001b[1;32m    385\u001b[0m \u001b[0;34m\u001b[0m\u001b[0m\n\u001b[1;32m    386\u001b[0m         \u001b[0;32mif\u001b[0m \u001b[0mself\u001b[0m\u001b[0;34m.\u001b[0m\u001b[0mcommand\u001b[0m \u001b[0;34m==\u001b[0m \u001b[0;34m'plot'\u001b[0m\u001b[0;34m:\u001b[0m\u001b[0;34m\u001b[0m\u001b[0m\n",
      "\u001b[0;32m/Users/nabeel/anaconda2/lib/python2.7/site-packages/matplotlib/axes/_base.pyc\u001b[0m in \u001b[0;36m_xy_from_xy\u001b[0;34m(self, x, y)\u001b[0m\n\u001b[1;32m    241\u001b[0m         \u001b[0;32mif\u001b[0m \u001b[0mx\u001b[0m\u001b[0;34m.\u001b[0m\u001b[0mshape\u001b[0m\u001b[0;34m[\u001b[0m\u001b[0;36m0\u001b[0m\u001b[0;34m]\u001b[0m \u001b[0;34m!=\u001b[0m \u001b[0my\u001b[0m\u001b[0;34m.\u001b[0m\u001b[0mshape\u001b[0m\u001b[0;34m[\u001b[0m\u001b[0;36m0\u001b[0m\u001b[0;34m]\u001b[0m\u001b[0;34m:\u001b[0m\u001b[0;34m\u001b[0m\u001b[0m\n\u001b[1;32m    242\u001b[0m             raise ValueError(\"x and y must have same first dimension, but \"\n\u001b[0;32m--> 243\u001b[0;31m                              \"have shapes {} and {}\".format(x.shape, y.shape))\n\u001b[0m\u001b[1;32m    244\u001b[0m         \u001b[0;32mif\u001b[0m \u001b[0mx\u001b[0m\u001b[0;34m.\u001b[0m\u001b[0mndim\u001b[0m \u001b[0;34m>\u001b[0m \u001b[0;36m2\u001b[0m \u001b[0;32mor\u001b[0m \u001b[0my\u001b[0m\u001b[0;34m.\u001b[0m\u001b[0mndim\u001b[0m \u001b[0;34m>\u001b[0m \u001b[0;36m2\u001b[0m\u001b[0;34m:\u001b[0m\u001b[0;34m\u001b[0m\u001b[0m\n\u001b[1;32m    245\u001b[0m             raise ValueError(\"x and y can be no greater than 2-D, but have \"\n",
      "\u001b[0;31mValueError\u001b[0m: x and y must have same first dimension, but have shapes (10000,) and (672,)"
     ]
    }
   ],
   "source": [
    "# Plotting a Graph\n",
    "nx.draw(graphs[0]) #Setting the parameters for the Graph\n",
    "plt.show() # Plotting the Graph\n",
    "\n",
    "diameterForGraph0 = nx.diameter(graphs[0])\n",
    "print(\"NetworkX Calculated Diameter of the Graph is \",diameterForGraph0)\n",
    "print(nx.info(graphs[0]))\n",
    "\n",
    "degreeD = nx.degree_histogram(G)\n",
    "#print(\"NetworkX Calculated Degree Distribution is \", degreeD)\n"
   ]
  },
  {
   "cell_type": "code",
   "execution_count": null,
   "metadata": {
    "collapsed": true
   },
   "outputs": [],
   "source": [
    "# Plotting a Graph\n",
    "nx.draw(G)\t#Settign the parameters for the Graph\n",
    "plt.show()\t# Plotting the Graph\n",
    "\n",
    "print(\"Execution of this block completed\")"
   ]
  },
  {
   "cell_type": "code",
   "execution_count": 1,
   "metadata": {
    "collapsed": true
   },
   "outputs": [],
   "source": [
    "#This is suppose to be computationally very expensive so no need to run this code \n",
    "# Displaying Diameter & Other Information about the Graph using the InBuilt Function.\n",
    "#diameterForERGraph = nx.diameter(G)\n",
    "#print(\"NetworkX Calculated Diameter of the Graph is \",diameterForERGraph)\n",
    "#print(nx.info(G))\n",
    "\n",
    "\n",
    "#Calculating the Degree Distribution using the NetworkX function\n",
    "#degreeD = nx.degree_histogram(G)\n",
    "#print(\"NetworkX Calculated Degree Distribution is \", degreeD)"
   ]
  },
  {
   "cell_type": "code",
   "execution_count": 53,
   "metadata": {},
   "outputs": [
    {
     "name": "stdout",
     "output_type": "stream",
     "text": [
      "1463309\n"
     ]
    }
   ],
   "source": [
    "z = {}\n",
    "count = 0\n",
    "for i in train_df['URL'].unique():\n",
    "    if i not in z:\n",
    "        z[i] = count\n",
    "        count += 1\n",
    "    \n",
    "for i in train_df['links'].unique():\n",
    "    if i not in z:\n",
    "        z[i] = count\n",
    "        count += 1\n",
    "print(len(z))"
   ]
  },
  {
   "cell_type": "code",
   "execution_count": 55,
   "metadata": {},
   "outputs": [
    {
     "name": "stdout",
     "output_type": "stream",
     "text": [
      "1463309\n"
     ]
    }
   ],
   "source": [
    "z = list(z)\n",
    "print(len(z))"
   ]
  },
  {
   "cell_type": "code",
   "execution_count": 2,
   "metadata": {},
   "outputs": [
    {
     "name": "stdout",
     "output_type": "stream",
     "text": [
      "end\n"
     ]
    }
   ],
   "source": [
    "#FilteredData.head()\n",
    "G_1 = nx.from_pandas_dataframe(train_df, 'URL', 'links')\n",
    "\n",
    "# Finding the number of connected components \n",
    "#print(nx.is_connected(G_1))\n",
    "#print(nx.number_connected_components(G_1))\n",
    "\n",
    "#for i in range(41):\n",
    "#    print(\"__3__\")\n",
    "#    temp = nx.number_of_nodes(subgraphs[i])\n",
    "#    print(\"the numner of node is \",i,temp)\n",
    "\n",
    "print(\"end\")"
   ]
  },
  {
   "cell_type": "code",
   "execution_count": 63,
   "metadata": {
    "collapsed": true
   },
   "outputs": [],
   "source": [
    "# finding the shortest path between the randomly selected nodes \n",
    "import random\n",
    "r = []\n",
    "for i in range(5):\n",
    "    x_random = random.choice(z)\n",
    "    #print(x_random)\n",
    "    y_random = random.choice(z)\n",
    "#print(y_random)\n",
    "    l = nx.shortest_path_length(G_1,source = x_random,target = y_random)\n",
    "    #print(l)\n",
    "    r.append(l)"
   ]
  },
  {
   "cell_type": "code",
   "execution_count": 64,
   "metadata": {},
   "outputs": [
    {
     "name": "stdout",
     "output_type": "stream",
     "text": [
      "[5, 5, 4, 2, 2]\n"
     ]
    }
   ],
   "source": [
    "print(r)"
   ]
  },
  {
   "cell_type": "code",
   "execution_count": 4,
   "metadata": {
    "collapsed": true
   },
   "outputs": [],
   "source": [
    "d={}\n",
    "for i in G_1:\n",
    "    d[i]=G_1.degree(i)\n",
    "    \n"
   ]
  },
  {
   "cell_type": "code",
   "execution_count": 5,
   "metadata": {
    "collapsed": true
   },
   "outputs": [],
   "source": [
    "a= list(d.values())"
   ]
  },
  {
   "cell_type": "code",
   "execution_count": 6,
   "metadata": {
    "collapsed": true
   },
   "outputs": [],
   "source": [
    "degree_distribution = {}\n",
    "for i in a:\n",
    "    if i in degree_distribution.keys():\n",
    "        degree_distribution[i]+=1\n",
    "    else:\n",
    "        degree_distribution[i]=1"
   ]
  },
  {
   "cell_type": "code",
   "execution_count": 7,
   "metadata": {},
   "outputs": [
    {
     "name": "stdout",
     "output_type": "stream",
     "text": [
      "Populating the interactive namespace from numpy and matplotlib\n"
     ]
    },
    {
     "name": "stderr",
     "output_type": "stream",
     "text": [
      "/Users/nabeel/anaconda2/lib/python2.7/site-packages/IPython/core/magics/pylab.py:161: UserWarning: pylab import has clobbered these variables: ['plt', 'randint']\n",
      "`%matplotlib` prevents importing * from pylab and numpy\n",
      "  \"\\n`%matplotlib` prevents importing * from pylab and numpy\"\n"
     ]
    },
    {
     "data": {
      "image/png": "[encoded data removed]",
      "text/plain": [
       "<matplotlib.figure.Figure at 0x15545b4e90>"
      ]
     },
     "metadata": {},
     "output_type": "display_data"
    }
   ],
   "source": [
    "import matplotlib.pylab as plt\n",
    "%pylab inline\n",
    "pylab.rcParams['figure.figsize'] = (25, 10)\n",
    "lists = sorted(degree_distribution.items()) # sorted by key, return a list of tuples\n",
    "x, y = zip(*lists) # unpack a list of pairs into two tuples\n",
    "plt.ylim(0, 100)\n",
    "#plt.xlim(0, 10)\n",
    "pylab.ylabel('N(k)', fontsize=30)\n",
    "pylab.xlabel('k', fontsize=30)\n",
    "\n",
    "\n",
    "plt.plot(x, y)\n",
    "y_df = train_df['links']\n",
    "ind = {} #dictionary with indegree for all the nodes \n",
    "for i in y_df:\n",
    "    if i in ind.keys():\n",
    "        ind[i]+=1\n",
    "    else:\n",
    "        ind[i]=1plt.show()"
   ]
  },
  {
   "cell_type": "code",
   "execution_count": 4,
   "metadata": {
    "collapsed": true
   },
   "outputs": [],
   "source": [
    "y_df = train_df['links']"
   ]
  },
  {
   "cell_type": "code",
   "execution_count": 6,
   "metadata": {},
   "outputs": [
    {
     "name": "stdout",
     "output_type": "stream",
     "text": [
      "end\n"
     ]
    }
   ],
   "source": [
    "\n",
    "ind = {} #dictionary with indegree for all the nodes \n",
    "for i in y_df:\n",
    "    if i in ind:\n",
    "        ind[i]+=1\n",
    "    else:\n",
    "        ind[i]=1\n",
    "        \n",
    "print(\"end\")"
   ]
  },
  {
   "cell_type": "code",
   "execution_count": 7,
   "metadata": {},
   "outputs": [
    {
     "name": "stdout",
     "output_type": "stream",
     "text": [
      "end\n"
     ]
    }
   ],
   "source": [
    "x_df = train_df['URL'] #dictionary with outdegree of all nodes \n",
    "od={}\n",
    "for i in x_df:\n",
    "    if i in od:\n",
    "        od[i]+=1\n",
    "    else:\n",
    "        od[i]=1\n",
    "    \n",
    "print(\"end\")"
   ]
  },
  {
   "cell_type": "code",
   "execution_count": 8,
   "metadata": {},
   "outputs": [
    {
     "name": "stdout",
     "output_type": "stream",
     "text": [
      "end\n"
     ]
    }
   ],
   "source": [
    "out_degree=list(od.values())\n",
    "in_degree =list(ind.values())\n",
    "\n",
    "print(\"end\")"
   ]
  },
  {
   "cell_type": "code",
   "execution_count": 9,
   "metadata": {},
   "outputs": [
    {
     "name": "stdout",
     "output_type": "stream",
     "text": [
      "end\n"
     ]
    }
   ],
   "source": [
    "indegree_distribution = {}\n",
    "for i in in_degree:\n",
    "    if i in indegree_distribution.keys():\n",
    "        indegree_distribution[i]+=1\n",
    "    else:\n",
    "        indegree_distribution[i]=1\n",
    "        \n",
    "print(\"end\")"
   ]
  },
  {
   "cell_type": "code",
   "execution_count": 10,
   "metadata": {
    "scrolled": true
   },
   "outputs": [
    {
     "name": "stdout",
     "output_type": "stream",
     "text": [
      "Populating the interactive namespace from numpy and matplotlib\n"
     ]
    },
    {
     "name": "stderr",
     "output_type": "stream",
     "text": [
      "/Users/nabeel/anaconda2/lib/python2.7/site-packages/IPython/core/magics/pylab.py:161: UserWarning: pylab import has clobbered these variables: ['plt', 'randint']\n",
      "`%matplotlib` prevents importing * from pylab and numpy\n",
      "  \"\\n`%matplotlib` prevents importing * from pylab and numpy\"\n"
     ]
    },
    {
     "data": {
      "image/png": "[encoded data removed]",
      "text/plain": [
       "<matplotlib.figure.Figure at 0x106d41d90>"
      ]
     },
     "metadata": {},
     "output_type": "display_data"
    }
   ],
   "source": [
    "import matplotlib.pylab as plt\n",
    "lists_in = sorted(indegree_distribution.items()) # sorted by key, return a list of tuples\n",
    "%pylab inline\n",
    "pylab.rcParams['figure.figsize'] = (25, 10)\n",
    "plt.ylim(0, 3000)\n",
    "plt.xlim(0, 100)\n",
    "pylab.ylabel('N(k)', fontsize=30)\n",
    "pylab.xlabel(' k', fontsize=30)\n",
    "\n",
    "x_in, y_in = zip(*lists_in) # unpack a list of pairs into two tuples\n",
    "plt.plot(x_in, y_in)\n",
    "plt.show()"
   ]
  },
  {
   "cell_type": "code",
   "execution_count": 14,
   "metadata": {},
   "outputs": [
    {
     "data": {
      "text/plain": [
       "475"
      ]
     },
     "execution_count": 14,
     "metadata": {},
     "output_type": "execute_result"
    }
   ],
   "source": [
    "outdegree_distribution = {}\n",
    "for i in out_degree:\n",
    "    if i in outdegree_distribution.keys():\n",
    "        outdegree_distribution[i]+=1\n",
    "    else:\n",
    "        outdegree_distribution[i]=1\n",
    "        \n",
    "len(outdegree_distribution)"
   ]
  },
  {
   "cell_type": "code",
   "execution_count": 15,
   "metadata": {},
   "outputs": [
    {
     "data": {
      "image/png": "[encoded data removed]",
      "text/plain": [
       "<matplotlib.figure.Figure at 0x10dd20450>"
      ]
     },
     "metadata": {},
     "output_type": "display_data"
    }
   ],
   "source": [
    "import matplotlib.pylab as plt\n",
    "lists_out = sorted(outdegree_distribution.items()) # sorted by key, return a list of tuples\n",
    "#%pylab inline\n",
    "#pylab.rcParams['figure.figsize'] = (25, 10)\n",
    "#plt.ylim(0, 10000)\n",
    "plt.xlim(0, 100)\n",
    "pylab.ylabel('N(k)', fontsize=30)\n",
    "pylab.xlabel(' k', fontsize=30)\n",
    "\n",
    "x_out, y_out = zip(*lists_out) # unpack a list of pairs into two tuples\n",
    "plt.plot(x_out, y_out)\n",
    "plt.show()"
   ]
  },
  {
   "cell_type": "code",
   "execution_count": 16,
   "metadata": {},
   "outputs": [
    {
     "name": "stdout",
     "output_type": "stream",
     "text": [
      "Populating the interactive namespace from numpy and matplotlib\n"
     ]
    },
    {
     "name": "stderr",
     "output_type": "stream",
     "text": [
      "/Users/nabeel/anaconda2/lib/python2.7/site-packages/IPython/core/magics/pylab.py:161: UserWarning: pylab import has clobbered these variables: ['plt']\n",
      "`%matplotlib` prevents importing * from pylab and numpy\n",
      "  \"\\n`%matplotlib` prevents importing * from pylab and numpy\"\n"
     ]
    },
    {
     "ename": "NameError",
     "evalue": "name 'degree_distribution' is not defined",
     "output_type": "error",
     "traceback": [
      "\u001b[0;31m---------------------------------------------------------------------------\u001b[0m",
      "\u001b[0;31mNameError\u001b[0m                                 Traceback (most recent call last)",
      "\u001b[0;32m<ipython-input-16-808fb27ec984>\u001b[0m in \u001b[0;36m<module>\u001b[0;34m()\u001b[0m\n\u001b[1;32m      3\u001b[0m \u001b[0mget_ipython\u001b[0m\u001b[0;34m(\u001b[0m\u001b[0;34m)\u001b[0m\u001b[0;34m.\u001b[0m\u001b[0mmagic\u001b[0m\u001b[0;34m(\u001b[0m\u001b[0;34mu'pylab inline'\u001b[0m\u001b[0;34m)\u001b[0m\u001b[0;34m\u001b[0m\u001b[0m\n\u001b[1;32m      4\u001b[0m \u001b[0mpylab\u001b[0m\u001b[0;34m.\u001b[0m\u001b[0mrcParams\u001b[0m\u001b[0;34m[\u001b[0m\u001b[0;34m'figure.figsize'\u001b[0m\u001b[0;34m]\u001b[0m \u001b[0;34m=\u001b[0m \u001b[0;34m(\u001b[0m\u001b[0;36m25\u001b[0m\u001b[0;34m,\u001b[0m \u001b[0;36m10\u001b[0m\u001b[0;34m)\u001b[0m\u001b[0;34m\u001b[0m\u001b[0m\n\u001b[0;32m----> 5\u001b[0;31m \u001b[0mlists\u001b[0m \u001b[0;34m=\u001b[0m \u001b[0msorted\u001b[0m\u001b[0;34m(\u001b[0m\u001b[0mdegree_distribution\u001b[0m\u001b[0;34m.\u001b[0m\u001b[0mitems\u001b[0m\u001b[0;34m(\u001b[0m\u001b[0;34m)\u001b[0m\u001b[0;34m)\u001b[0m \u001b[0;31m# sorted by key, return a list of tuples\u001b[0m\u001b[0;34m\u001b[0m\u001b[0m\n\u001b[0m\u001b[1;32m      6\u001b[0m \u001b[0mx\u001b[0m\u001b[0;34m,\u001b[0m \u001b[0my\u001b[0m \u001b[0;34m=\u001b[0m \u001b[0mzip\u001b[0m\u001b[0;34m(\u001b[0m\u001b[0;34m*\u001b[0m\u001b[0mlists\u001b[0m\u001b[0;34m)\u001b[0m \u001b[0;31m# unpack a list of pairs into two tuples\u001b[0m\u001b[0;34m\u001b[0m\u001b[0m\n\u001b[1;32m      7\u001b[0m \u001b[0;31m#plt.ylim(1, 15)\u001b[0m\u001b[0;34m\u001b[0m\u001b[0;34m\u001b[0m\u001b[0m\n",
      "\u001b[0;31mNameError\u001b[0m: name 'degree_distribution' is not defined"
     ]
    }
   ],
   "source": [
    "#POWER LAW\n",
    "import matplotlib.pylab as plt\n",
    "%pylab inline\n",
    "pylab.rcParams['figure.figsize'] = (25, 10)\n",
    "lists = sorted(degree_distribution.items()) # sorted by key, return a list of tuples\n",
    "x, y = zip(*lists) # unpack a list of pairs into two tuples\n",
    "#plt.ylim(1, 15)\n",
    "# plt.xlim(0, 1000)\n",
    "pylab.ylabel(' log(N(k))', fontsize=30)\n",
    "pylab.xlabel('log(k)', fontsize=30)\n",
    "\n",
    "\n",
    "plt.plot(log(x), log(y))\n",
    "plt.show()"
   ]
  },
  {
   "cell_type": "code",
   "execution_count": 17,
   "metadata": {},
   "outputs": [
    {
     "name": "stdout",
     "output_type": "stream",
     "text": [
      "Populating the interactive namespace from numpy and matplotlib\n"
     ]
    },
    {
     "ename": "NameError",
     "evalue": "name 'degree_distribution' is not defined",
     "output_type": "error",
     "traceback": [
      "\u001b[0;31m---------------------------------------------------------------------------\u001b[0m",
      "\u001b[0;31mNameError\u001b[0m                                 Traceback (most recent call last)",
      "\u001b[0;32m<ipython-input-17-af17bb45d566>\u001b[0m in \u001b[0;36m<module>\u001b[0;34m()\u001b[0m\n\u001b[1;32m      2\u001b[0m \u001b[0mget_ipython\u001b[0m\u001b[0;34m(\u001b[0m\u001b[0;34m)\u001b[0m\u001b[0;34m.\u001b[0m\u001b[0mmagic\u001b[0m\u001b[0;34m(\u001b[0m\u001b[0;34mu'pylab inline'\u001b[0m\u001b[0;34m)\u001b[0m\u001b[0;34m\u001b[0m\u001b[0m\n\u001b[1;32m      3\u001b[0m \u001b[0mpylab\u001b[0m\u001b[0;34m.\u001b[0m\u001b[0mrcParams\u001b[0m\u001b[0;34m[\u001b[0m\u001b[0;34m'figure.figsize'\u001b[0m\u001b[0;34m]\u001b[0m \u001b[0;34m=\u001b[0m \u001b[0;34m(\u001b[0m\u001b[0;36m25\u001b[0m\u001b[0;34m,\u001b[0m \u001b[0;36m10\u001b[0m\u001b[0;34m)\u001b[0m\u001b[0;34m\u001b[0m\u001b[0m\n\u001b[0;32m----> 4\u001b[0;31m \u001b[0mlists\u001b[0m \u001b[0;34m=\u001b[0m \u001b[0msorted\u001b[0m\u001b[0;34m(\u001b[0m\u001b[0mdegree_distribution\u001b[0m\u001b[0;34m.\u001b[0m\u001b[0mitems\u001b[0m\u001b[0;34m(\u001b[0m\u001b[0;34m)\u001b[0m\u001b[0;34m)\u001b[0m \u001b[0;31m# sorted by key, return a list of tuples\u001b[0m\u001b[0;34m\u001b[0m\u001b[0m\n\u001b[0m\u001b[1;32m      5\u001b[0m \u001b[0mx\u001b[0m\u001b[0;34m,\u001b[0m \u001b[0my\u001b[0m \u001b[0;34m=\u001b[0m \u001b[0mzip\u001b[0m\u001b[0;34m(\u001b[0m\u001b[0;34m*\u001b[0m\u001b[0mlists\u001b[0m\u001b[0;34m)\u001b[0m \u001b[0;31m# unpack a list of pairs into two tuples\u001b[0m\u001b[0;34m\u001b[0m\u001b[0m\n\u001b[1;32m      6\u001b[0m \u001b[0;31m#plt.ylim(1, 15)\u001b[0m\u001b[0;34m\u001b[0m\u001b[0;34m\u001b[0m\u001b[0m\n",
      "\u001b[0;31mNameError\u001b[0m: name 'degree_distribution' is not defined"
     ]
    }
   ],
   "source": [
    "import matplotlib.pyplot as plt\n",
    "%pylab inline\n",
    "pylab.rcParams['figure.figsize'] = (25, 10)\n",
    "lists = sorted(degree_distribution.items()) # sorted by key, return a list of tuples\n",
    "x, y = zip(*lists) # unpack a list of pairs into two tuples\n",
    "#plt.ylim(1, 15)\n",
    "# plt.xlim(0, 1000)\n",
    "pylab.ylabel(' log(N(k))', fontsize=30)\n",
    "pylab.xlabel('log(k)', fontsize=30)\n",
    "\n",
    "matplotlib.pyplot.scatter(log(x),log(y))\n",
    "matplotlib.pyplot.show()\n",
    "# plt.plot(log(x), log(y))\n",
    "# plt.show()"
   ]
  },
  {
   "cell_type": "code",
   "execution_count": 18,
   "metadata": {},
   "outputs": [
    {
     "name": "stdout",
     "output_type": "stream",
     "text": [
      "Populating the interactive namespace from numpy and matplotlib\n"
     ]
    },
    {
     "data": {
      "image/png": "[encoded data removed]",
      "text/plain": [
       "<matplotlib.figure.Figure at 0x10e082710>"
      ]
     },
     "metadata": {},
     "output_type": "display_data"
    }
   ],
   "source": [
    "import matplotlib.pyplot as plt\n",
    "%pylab inline\n",
    "pylab.rcParams['figure.figsize'] = (25, 10)\n",
    "lists = sorted(indegree_distribution.items()) # sorted by key, return a list of tuples\n",
    "x, y = zip(*lists) # unpack a list of pairs into two tuples\n",
    "#plt.ylim(1, 15)\n",
    "# plt.xlim(0, 1000)\n",
    "pylab.ylabel(' log(N(k))', fontsize=30)\n",
    "pylab.xlabel('log(k)', fontsize=30)\n",
    "\n",
    "matplotlib.pyplot.scatter(log(x),log(y))\n",
    "matplotlib.pyplot.show()"
   ]
  },
  {
   "cell_type": "code",
   "execution_count": 19,
   "metadata": {},
   "outputs": [
    {
     "ename": "NameError",
     "evalue": "name 'a' is not defined",
     "output_type": "error",
     "traceback": [
      "\u001b[0;31m---------------------------------------------------------------------------\u001b[0m",
      "\u001b[0;31mNameError\u001b[0m                                 Traceback (most recent call last)",
      "\u001b[0;32m<ipython-input-19-acad3099d6fa>\u001b[0m in \u001b[0;36m<module>\u001b[0;34m()\u001b[0m\n\u001b[0;32m----> 1\u001b[0;31m \u001b[0ma1\u001b[0m\u001b[0;34m=\u001b[0m\u001b[0msorted\u001b[0m\u001b[0;34m(\u001b[0m\u001b[0ma\u001b[0m\u001b[0;34m,\u001b[0m\u001b[0mreverse\u001b[0m\u001b[0;34m=\u001b[0m\u001b[0mTrue\u001b[0m\u001b[0;34m)\u001b[0m\u001b[0;34m\u001b[0m\u001b[0m\n\u001b[0m\u001b[1;32m      2\u001b[0m \u001b[0;32mfor\u001b[0m \u001b[0mi\u001b[0m \u001b[0;32min\u001b[0m \u001b[0mrange\u001b[0m\u001b[0;34m(\u001b[0m\u001b[0;36m0\u001b[0m\u001b[0;34m,\u001b[0m\u001b[0;36m100\u001b[0m\u001b[0;34m)\u001b[0m\u001b[0;34m:\u001b[0m\u001b[0;34m\u001b[0m\u001b[0m\n\u001b[1;32m      3\u001b[0m     \u001b[0mp\u001b[0m \u001b[0;34m=\u001b[0m \u001b[0ma1\u001b[0m\u001b[0;34m[\u001b[0m\u001b[0mi\u001b[0m\u001b[0;34m]\u001b[0m\u001b[0;34m\u001b[0m\u001b[0m\n\u001b[1;32m      4\u001b[0m     \u001b[0;32mfor\u001b[0m \u001b[0mp1\u001b[0m \u001b[0;32min\u001b[0m \u001b[0md\u001b[0m\u001b[0;34m:\u001b[0m\u001b[0;34m\u001b[0m\u001b[0m\n\u001b[1;32m      5\u001b[0m         \u001b[0;32mif\u001b[0m \u001b[0md\u001b[0m\u001b[0;34m[\u001b[0m\u001b[0mp1\u001b[0m\u001b[0;34m]\u001b[0m\u001b[0;34m==\u001b[0m\u001b[0mp\u001b[0m\u001b[0;34m:\u001b[0m\u001b[0;34m\u001b[0m\u001b[0m\n",
      "\u001b[0;31mNameError\u001b[0m: name 'a' is not defined"
     ]
    }
   ],
   "source": [
    "a1=sorted(a,reverse=True)\n",
    "for i in range(0,100):\n",
    "    p = a1[i]\n",
    "    for p1 in d:\n",
    "        if d[p1]==p:\n",
    "            print(p1,p)"
   ]
  },
  {
   "cell_type": "code",
   "execution_count": 20,
   "metadata": {},
   "outputs": [
    {
     "ename": "NameError",
     "evalue": "name 'a1' is not defined",
     "output_type": "error",
     "traceback": [
      "\u001b[0;31m---------------------------------------------------------------------------\u001b[0m",
      "\u001b[0;31mNameError\u001b[0m                                 Traceback (most recent call last)",
      "\u001b[0;32m<ipython-input-20-ca451bcf136d>\u001b[0m in \u001b[0;36m<module>\u001b[0;34m()\u001b[0m\n\u001b[0;32m----> 1\u001b[0;31m \u001b[0mlen\u001b[0m\u001b[0;34m(\u001b[0m\u001b[0ma1\u001b[0m\u001b[0;34m)\u001b[0m\u001b[0;34m\u001b[0m\u001b[0m\n\u001b[0m\u001b[1;32m      2\u001b[0m \u001b[0mpl\u001b[0m\u001b[0;34m=\u001b[0m\u001b[0;36m0\u001b[0m\u001b[0;34m\u001b[0m\u001b[0m\n\u001b[1;32m      3\u001b[0m \u001b[0;32mfor\u001b[0m \u001b[0mi\u001b[0m \u001b[0;32min\u001b[0m \u001b[0mrange\u001b[0m\u001b[0;34m(\u001b[0m\u001b[0;36m292000\u001b[0m\u001b[0;34m,\u001b[0m\u001b[0mlen\u001b[0m\u001b[0;34m(\u001b[0m\u001b[0ma1\u001b[0m\u001b[0;34m)\u001b[0m\u001b[0;34m)\u001b[0m\u001b[0;34m:\u001b[0m\u001b[0;34m\u001b[0m\u001b[0m\n\u001b[1;32m      4\u001b[0m     \u001b[0mpl\u001b[0m\u001b[0;34m+=\u001b[0m\u001b[0ma1\u001b[0m\u001b[0;34m[\u001b[0m\u001b[0mi\u001b[0m\u001b[0;34m]\u001b[0m\u001b[0;34m\u001b[0m\u001b[0m\n\u001b[1;32m      5\u001b[0m \u001b[0mpl\u001b[0m\u001b[0;34m\u001b[0m\u001b[0m\n",
      "\u001b[0;31mNameError\u001b[0m: name 'a1' is not defined"
     ]
    }
   ],
   "source": [
    "len(a1)\n",
    "pl=0\n",
    "for i in range(292000,len(a1)):\n",
    "    pl+=a1[i]\n",
    "pl\n",
    "#first 20 percent of nodes have sum- 48775242 \n",
    "#remaining 80 percent have sum- 13042702"
   ]
  },
  {
   "cell_type": "code",
   "execution_count": null,
   "metadata": {},
   "outputs": [
    {
     "name": "stdout",
     "output_type": "stream",
     "text": [
      "('http://www.uiowa.edu/homepage/online-privacy-information', 461164)\n",
      "('http://opsmanual.uiowa.edu/community-policies/nondiscrimination-statement', 458060)\n",
      "('https://www.usnews.com/best-graduate-schools/top-medical-schools/university-of-iowa-carver-04036', 434911)\n",
      "('http://www.forbes.com/companies/university-of-iowa-hospitals-clinics/', 434910)\n",
      "('https://medicine.uiowa.edu', 378447)\n",
      "('http://www.medicine.uiowa.edu/patient-care', 378446)\n",
      "('http://www.medicine.uiowa.edu/about-us', 378446)\n",
      "('http://www.medicine.uiowa.edu/news', 378446)\n",
      "('http://www.medicine.uiowa.edu/education', 378446)\n",
      "('http://www.medicine.uiowa.edu/research', 378446)\n",
      "('http://www.medicine.uiowa.edu/about-us/departments', 378446)\n",
      "('http://www.medicine.uiowa.edu/patient-care', 378446)\n",
      "('http://www.medicine.uiowa.edu/about-us', 378446)\n",
      "('http://www.medicine.uiowa.edu/news', 378446)\n",
      "('http://www.medicine.uiowa.edu/education', 378446)\n",
      "('http://www.medicine.uiowa.edu/research', 378446)\n",
      "('http://www.medicine.uiowa.edu/about-us/departments', 378446)\n",
      "('http://www.medicine.uiowa.edu/patient-care', 378446)\n",
      "('http://www.medicine.uiowa.edu/about-us', 378446)\n",
      "('http://www.medicine.uiowa.edu/news', 378446)\n",
      "('http://www.medicine.uiowa.edu/education', 378446)\n",
      "('http://www.medicine.uiowa.edu/research', 378446)\n",
      "('http://www.medicine.uiowa.edu/about-us/departments', 378446)\n",
      "('http://www.medicine.uiowa.edu/patient-care', 378446)\n",
      "('http://www.medicine.uiowa.edu/about-us', 378446)\n",
      "('http://www.medicine.uiowa.edu/news', 378446)\n",
      "('http://www.medicine.uiowa.edu/education', 378446)\n",
      "('http://www.medicine.uiowa.edu/research', 378446)\n",
      "('http://www.medicine.uiowa.edu/about-us/departments', 378446)\n",
      "('http://www.medicine.uiowa.edu/patient-care', 378446)\n",
      "('http://www.medicine.uiowa.edu/about-us', 378446)\n",
      "('http://www.medicine.uiowa.edu/news', 378446)\n",
      "('http://www.medicine.uiowa.edu/education', 378446)\n",
      "('http://www.medicine.uiowa.edu/research', 378446)\n",
      "('http://www.medicine.uiowa.edu/about-us/departments', 378446)\n",
      "('http://www.medicine.uiowa.edu/patient-care', 378446)\n",
      "('http://www.medicine.uiowa.edu/about-us', 378446)\n",
      "('http://www.medicine.uiowa.edu/news', 378446)\n",
      "('http://www.medicine.uiowa.edu/education', 378446)\n",
      "('http://www.medicine.uiowa.edu/research', 378446)\n",
      "('http://www.medicine.uiowa.edu/about-us/departments', 378446)\n",
      "('https://uihealthcare.org', 329329)\n",
      "('http://www.uiowa.edu', 169838)\n",
      "('http://events.uiowa.edu/', 159299)\n",
      "('https://uiowa.edu/pharmacology/', 158609)\n",
      "('https://uiowa.edu/pharmacology/news', 158609)\n",
      "('https://uiowa.edu/pharmacology/research', 158609)\n",
      "('https://uiowa.edu/pharmacology/people', 158609)\n",
      "('https://uiowa.edu/pharmacology/education', 158609)\n",
      "('https://uiowa.edu/pharmacology/about-us', 158609)\n",
      "('https://uiowa.edu/pharmacology/', 158609)\n",
      "('https://uiowa.edu/pharmacology/news', 158609)\n",
      "('https://uiowa.edu/pharmacology/research', 158609)\n",
      "('https://uiowa.edu/pharmacology/people', 158609)\n",
      "('https://uiowa.edu/pharmacology/education', 158609)\n",
      "('https://uiowa.edu/pharmacology/about-us', 158609)\n",
      "('https://uiowa.edu/pharmacology/', 158609)\n",
      "('https://uiowa.edu/pharmacology/news', 158609)\n",
      "('https://uiowa.edu/pharmacology/research', 158609)\n",
      "('https://uiowa.edu/pharmacology/people', 158609)\n",
      "('https://uiowa.edu/pharmacology/education', 158609)\n",
      "('https://uiowa.edu/pharmacology/about-us', 158609)\n",
      "('https://uiowa.edu/pharmacology/', 158609)\n",
      "('https://uiowa.edu/pharmacology/news', 158609)\n",
      "('https://uiowa.edu/pharmacology/research', 158609)\n",
      "('https://uiowa.edu/pharmacology/people', 158609)\n",
      "('https://uiowa.edu/pharmacology/education', 158609)\n",
      "('https://uiowa.edu/pharmacology/about-us', 158609)\n",
      "('https://uiowa.edu/pharmacology/', 158609)\n",
      "('https://uiowa.edu/pharmacology/news', 158609)\n",
      "('https://uiowa.edu/pharmacology/research', 158609)\n",
      "('https://uiowa.edu/pharmacology/people', 158609)\n",
      "('https://uiowa.edu/pharmacology/education', 158609)\n",
      "('https://uiowa.edu/pharmacology/about-us', 158609)\n",
      "('https://uiowa.edu/pharmacology/', 158609)\n",
      "('https://uiowa.edu/pharmacology/news', 158609)\n",
      "('https://uiowa.edu/pharmacology/research', 158609)\n",
      "('https://uiowa.edu/pharmacology/people', 158609)\n",
      "('https://uiowa.edu/pharmacology/education', 158609)\n",
      "('https://uiowa.edu/pharmacology/about-us', 158609)\n",
      "('https://uiowa.edu/pharmacology/events', 158579)\n",
      "('https://uiowa.edu/pharmacology/news-events/department-newsletters', 158579)\n",
      "('https://uiowa.edu/pharmacology/news-events/michael-j-brody-memorial-lecture', 158579)\n",
      "('https://uiowa.edu/pharmacology/news-events/center-hypertension-seminar-series', 158579)\n",
      "('https://uiowa.edu/pharmacology/news-events/seminar-series', 158579)\n",
      "('https://uiowa.edu/pharmacology/events', 158579)\n",
      "('https://uiowa.edu/pharmacology/news-events/department-newsletters', 158579)\n",
      "('https://uiowa.edu/pharmacology/news-events/michael-j-brody-memorial-lecture', 158579)\n",
      "('https://uiowa.edu/pharmacology/news-events/center-hypertension-seminar-series', 158579)\n",
      "('https://uiowa.edu/pharmacology/news-events/seminar-series', 158579)\n",
      "('https://uiowa.edu/pharmacology/events', 158579)\n",
      "('https://uiowa.edu/pharmacology/news-events/department-newsletters', 158579)\n",
      "('https://uiowa.edu/pharmacology/news-events/michael-j-brody-memorial-lecture', 158579)\n",
      "('https://uiowa.edu/pharmacology/news-events/center-hypertension-seminar-series', 158579)\n",
      "('https://uiowa.edu/pharmacology/news-events/seminar-series', 158579)\n",
      "('https://uiowa.edu/pharmacology/events', 158579)\n",
      "('https://uiowa.edu/pharmacology/news-events/department-newsletters', 158579)\n",
      "('https://uiowa.edu/pharmacology/news-events/michael-j-brody-memorial-lecture', 158579)\n",
      "('https://uiowa.edu/pharmacology/news-events/center-hypertension-seminar-series', 158579)\n",
      "('https://uiowa.edu/pharmacology/news-events/seminar-series', 158579)\n",
      "('https://uiowa.edu/pharmacology/events', 158579)\n",
      "('https://uiowa.edu/pharmacology/news-events/department-newsletters', 158579)\n",
      "('https://uiowa.edu/pharmacology/news-events/michael-j-brody-memorial-lecture', 158579)\n",
      "('https://uiowa.edu/pharmacology/news-events/center-hypertension-seminar-series', 158579)\n",
      "('https://uiowa.edu/pharmacology/news-events/seminar-series', 158579)\n",
      "('https://uiowa.edu', 142932)\n",
      "('https://uiowa.edu/pharmacology/events/week/2017-10-29', 131926)\n",
      "('http://www.public-health.uiowa.edu/', 121156)\n",
      "('https://www.public-health.uiowa.edu/prc/cpcrn/', 120706)\n",
      "('https://www.public-health.uiowa.edu/prc/', 120705)\n",
      "('https://www.public-health.uiowa.edu/prc/toolkits/', 120704)\n",
      "('https://www.cdc.gov/prc/resources/tool-factsheets.html', 120704)\n",
      "('https://www.public-health.uiowa.edu/prc/toolkits/', 120704)\n",
      "('https://www.cdc.gov/prc/resources/tool-factsheets.html', 120704)\n",
      "('https://www.public-health.uiowa.edu/prc/training-links/', 120703)\n",
      "('https://www.public-health.uiowa.edu/prc/wp-content/uploads/2017/01/AdaptationPlanningToolExample.pdf', 120703)\n",
      "('https://www.public-health.uiowa.edu/prc/directions/', 120703)\n",
      "('https://www.public-health.uiowa.edu/prc/organizational-chart/', 120703)\n",
      "('https://www.public-health.uiowa.edu/prc/publications-presentations-and-reports/', 120703)\n",
      "('https://www.public-health.uiowa.edu/prc/community-highlight-story-active-ottumwa/', 120703)\n",
      "('https://www.public-health.uiowa.edu/prc/projects/', 120703)\n",
      "('https://www.youtube.com/watch?v=Ory3dT4WA6w', 120703)\n",
      "('https://www.public-health.uiowa.edu/prc/logic-model-active-ottumwa-2/', 120703)\n",
      "('https://www.public-health.uiowa.edu/prc/faqs/', 120703)\n",
      "('https://www.public-health.uiowa.edu/prc/active-ottumwa-media-coverage-2/', 120703)\n",
      "('https://www.public-health.uiowa.edu/prc/wp-content/uploads/2017/01/AdaptationPlanningTool-Instructions.pdf', 120703)\n",
      "('https://www.public-health.uiowa.edu/prc/using-evidence-based-practices/', 120703)\n",
      "('https://www.public-health.uiowa.edu/prc/cdc-clear-communication-index/', 120703)\n",
      "('https://www.public-health.uiowa.edu/prc/wp-content/uploads/2017/01/EBI-Resources.pdf', 120703)\n",
      "('https://www.public-health.uiowa.edu/prc/presentations/', 120703)\n",
      "('https://www.public-health.uiowa.edu/prc/wp-content/uploads/2017/01/EBI-Webinar-Slides.pdf', 120703)\n",
      "('https://www.public-health.uiowa.edu/prc/center-media/', 120703)\n",
      "('https://www.public-health.uiowa.edu/prc/active-ottumwa-fact-sheets-espanol/', 120703)\n",
      "('https://www.public-health.uiowa.edu/prc/publications-technical-reports/', 120703)\n",
      "('https://www.public-health.uiowa.edu/prc/ui-collaborators/', 120703)\n",
      "('https://www.public-health.uiowa.edu/prc/sab/', 120703)\n",
      "('https://www.public-health.uiowa.edu/prc/ui-prc-logic-model/', 120703)\n",
      "('https://www.public-health.uiowa.edu/prc/past/', 120703)\n",
      "('https://www.public-health.uiowa.edu/prc/pilot-projects/', 120703)\n",
      "('https://www.public-health.uiowa.edu/prc/former-student-profiles/', 120703)\n",
      "('https://www.public-health.uiowa.edu/prc/mission/', 120703)\n",
      "('https://www.public-health.uiowa.edu/prc/past-core-research-projects/', 120703)\n"
     ]
    },
    {
     "name": "stdout",
     "output_type": "stream",
     "text": [
      "('https://www.public-health.uiowa.edu/prc/active-ottumwa/', 120703)\n",
      "('https://www.public-health.uiowa.edu/prc/core-research-projects/', 120703)\n",
      "('https://www.public-health.uiowa.edu/prc/current/', 120703)\n",
      "('https://www.public-health.uiowa.edu/prc/ottumwa-health-survey-results/', 120703)\n",
      "('https://www.public-health.uiowa.edu/prc/iab/', 120703)\n",
      "('https://www.public-health.uiowa.edu/prc/tools-and-resources/', 120703)\n",
      "('https://www.public-health.uiowa.edu/prc/prc-30th-anniversary/', 120703)\n",
      "('https://www.public-health.uiowa.edu/prc/timeline/', 120703)\n",
      "('https://www.public-health.uiowa.edu/prc/active-ottumwa-fact-sheets/', 120703)\n",
      "('https://www.public-health.uiowa.edu/prc/community-advisory-board/', 120703)\n",
      "('https://www.public-health.uiowa.edu/prc/about/', 120703)\n",
      "('https://www.public-health.uiowa.edu/prc/active-ottumwa-faqs/', 120703)\n",
      "('https://www.public-health.uiowa.edu/prc/training-links/', 120703)\n",
      "('https://www.public-health.uiowa.edu/prc/wp-content/uploads/2017/01/AdaptationPlanningToolExample.pdf', 120703)\n",
      "('https://www.public-health.uiowa.edu/prc/directions/', 120703)\n",
      "('https://www.public-health.uiowa.edu/prc/organizational-chart/', 120703)\n",
      "('https://www.public-health.uiowa.edu/prc/publications-presentations-and-reports/', 120703)\n",
      "('https://www.public-health.uiowa.edu/prc/community-highlight-story-active-ottumwa/', 120703)\n",
      "('https://www.public-health.uiowa.edu/prc/projects/', 120703)\n",
      "('https://www.youtube.com/watch?v=Ory3dT4WA6w', 120703)\n",
      "('https://www.public-health.uiowa.edu/prc/logic-model-active-ottumwa-2/', 120703)\n",
      "('https://www.public-health.uiowa.edu/prc/faqs/', 120703)\n",
      "('https://www.public-health.uiowa.edu/prc/active-ottumwa-media-coverage-2/', 120703)\n",
      "('https://www.public-health.uiowa.edu/prc/wp-content/uploads/2017/01/AdaptationPlanningTool-Instructions.pdf', 120703)\n",
      "('https://www.public-health.uiowa.edu/prc/using-evidence-based-practices/', 120703)\n",
      "('https://www.public-health.uiowa.edu/prc/cdc-clear-communication-index/', 120703)\n",
      "('https://www.public-health.uiowa.edu/prc/wp-content/uploads/2017/01/EBI-Resources.pdf', 120703)\n",
      "('https://www.public-health.uiowa.edu/prc/presentations/', 120703)\n",
      "('https://www.public-health.uiowa.edu/prc/wp-content/uploads/2017/01/EBI-Webinar-Slides.pdf', 120703)\n",
      "('https://www.public-health.uiowa.edu/prc/center-media/', 120703)\n",
      "('https://www.public-health.uiowa.edu/prc/active-ottumwa-fact-sheets-espanol/', 120703)\n",
      "('https://www.public-health.uiowa.edu/prc/publications-technical-reports/', 120703)\n",
      "('https://www.public-health.uiowa.edu/prc/ui-collaborators/', 120703)\n",
      "('https://www.public-health.uiowa.edu/prc/sab/', 120703)\n",
      "('https://www.public-health.uiowa.edu/prc/ui-prc-logic-model/', 120703)\n",
      "('https://www.public-health.uiowa.edu/prc/past/', 120703)\n",
      "('https://www.public-health.uiowa.edu/prc/pilot-projects/', 120703)\n",
      "('https://www.public-health.uiowa.edu/prc/former-student-profiles/', 120703)\n",
      "('https://www.public-health.uiowa.edu/prc/mission/', 120703)\n",
      "('https://www.public-health.uiowa.edu/prc/past-core-research-projects/', 120703)\n",
      "('https://www.public-health.uiowa.edu/prc/active-ottumwa/', 120703)\n",
      "('https://www.public-health.uiowa.edu/prc/core-research-projects/', 120703)\n",
      "('https://www.public-health.uiowa.edu/prc/current/', 120703)\n",
      "('https://www.public-health.uiowa.edu/prc/ottumwa-health-survey-results/', 120703)\n",
      "('https://www.public-health.uiowa.edu/prc/iab/', 120703)\n",
      "('https://www.public-health.uiowa.edu/prc/tools-and-resources/', 120703)\n",
      "('https://www.public-health.uiowa.edu/prc/prc-30th-anniversary/', 120703)\n",
      "('https://www.public-health.uiowa.edu/prc/timeline/', 120703)\n",
      "('https://www.public-health.uiowa.edu/prc/active-ottumwa-fact-sheets/', 120703)\n",
      "('https://www.public-health.uiowa.edu/prc/community-advisory-board/', 120703)\n",
      "('https://www.public-health.uiowa.edu/prc/about/', 120703)\n",
      "('https://www.public-health.uiowa.edu/prc/active-ottumwa-faqs/', 120703)\n",
      "('https://www.public-health.uiowa.edu/prc/training-links/', 120703)\n",
      "('https://www.public-health.uiowa.edu/prc/wp-content/uploads/2017/01/AdaptationPlanningToolExample.pdf', 120703)\n",
      "('https://www.public-health.uiowa.edu/prc/directions/', 120703)\n",
      "('https://www.public-health.uiowa.edu/prc/organizational-chart/', 120703)\n",
      "('https://www.public-health.uiowa.edu/prc/publications-presentations-and-reports/', 120703)\n",
      "('https://www.public-health.uiowa.edu/prc/community-highlight-story-active-ottumwa/', 120703)\n",
      "('https://www.public-health.uiowa.edu/prc/projects/', 120703)\n",
      "('https://www.youtube.com/watch?v=Ory3dT4WA6w', 120703)\n",
      "('https://www.public-health.uiowa.edu/prc/logic-model-active-ottumwa-2/', 120703)\n",
      "('https://www.public-health.uiowa.edu/prc/faqs/', 120703)\n",
      "('https://www.public-health.uiowa.edu/prc/active-ottumwa-media-coverage-2/', 120703)\n",
      "('https://www.public-health.uiowa.edu/prc/wp-content/uploads/2017/01/AdaptationPlanningTool-Instructions.pdf', 120703)\n",
      "('https://www.public-health.uiowa.edu/prc/using-evidence-based-practices/', 120703)\n",
      "('https://www.public-health.uiowa.edu/prc/cdc-clear-communication-index/', 120703)\n",
      "('https://www.public-health.uiowa.edu/prc/wp-content/uploads/2017/01/EBI-Resources.pdf', 120703)\n",
      "('https://www.public-health.uiowa.edu/prc/presentations/', 120703)\n",
      "('https://www.public-health.uiowa.edu/prc/wp-content/uploads/2017/01/EBI-Webinar-Slides.pdf', 120703)\n",
      "('https://www.public-health.uiowa.edu/prc/center-media/', 120703)\n",
      "('https://www.public-health.uiowa.edu/prc/active-ottumwa-fact-sheets-espanol/', 120703)\n",
      "('https://www.public-health.uiowa.edu/prc/publications-technical-reports/', 120703)\n",
      "('https://www.public-health.uiowa.edu/prc/ui-collaborators/', 120703)\n",
      "('https://www.public-health.uiowa.edu/prc/sab/', 120703)\n",
      "('https://www.public-health.uiowa.edu/prc/ui-prc-logic-model/', 120703)\n",
      "('https://www.public-health.uiowa.edu/prc/past/', 120703)\n",
      "('https://www.public-health.uiowa.edu/prc/pilot-projects/', 120703)\n",
      "('https://www.public-health.uiowa.edu/prc/former-student-profiles/', 120703)\n",
      "('https://www.public-health.uiowa.edu/prc/mission/', 120703)\n",
      "('https://www.public-health.uiowa.edu/prc/past-core-research-projects/', 120703)\n",
      "('https://www.public-health.uiowa.edu/prc/active-ottumwa/', 120703)\n",
      "('https://www.public-health.uiowa.edu/prc/core-research-projects/', 120703)\n",
      "('https://www.public-health.uiowa.edu/prc/current/', 120703)\n",
      "('https://www.public-health.uiowa.edu/prc/ottumwa-health-survey-results/', 120703)\n",
      "('https://www.public-health.uiowa.edu/prc/iab/', 120703)\n",
      "('https://www.public-health.uiowa.edu/prc/tools-and-resources/', 120703)\n",
      "('https://www.public-health.uiowa.edu/prc/prc-30th-anniversary/', 120703)\n",
      "('https://www.public-health.uiowa.edu/prc/timeline/', 120703)\n",
      "('https://www.public-health.uiowa.edu/prc/active-ottumwa-fact-sheets/', 120703)\n",
      "('https://www.public-health.uiowa.edu/prc/community-advisory-board/', 120703)\n",
      "('https://www.public-health.uiowa.edu/prc/about/', 120703)\n",
      "('https://www.public-health.uiowa.edu/prc/active-ottumwa-faqs/', 120703)\n",
      "('https://www.public-health.uiowa.edu/prc/training-links/', 120703)\n",
      "('https://www.public-health.uiowa.edu/prc/wp-content/uploads/2017/01/AdaptationPlanningToolExample.pdf', 120703)\n",
      "('https://www.public-health.uiowa.edu/prc/directions/', 120703)\n",
      "('https://www.public-health.uiowa.edu/prc/organizational-chart/', 120703)\n",
      "('https://www.public-health.uiowa.edu/prc/publications-presentations-and-reports/', 120703)\n",
      "('https://www.public-health.uiowa.edu/prc/community-highlight-story-active-ottumwa/', 120703)\n",
      "('https://www.public-health.uiowa.edu/prc/projects/', 120703)\n",
      "('https://www.youtube.com/watch?v=Ory3dT4WA6w', 120703)\n",
      "('https://www.public-health.uiowa.edu/prc/logic-model-active-ottumwa-2/', 120703)\n",
      "('https://www.public-health.uiowa.edu/prc/faqs/', 120703)\n",
      "('https://www.public-health.uiowa.edu/prc/active-ottumwa-media-coverage-2/', 120703)\n",
      "('https://www.public-health.uiowa.edu/prc/wp-content/uploads/2017/01/AdaptationPlanningTool-Instructions.pdf', 120703)\n",
      "('https://www.public-health.uiowa.edu/prc/using-evidence-based-practices/', 120703)\n",
      "('https://www.public-health.uiowa.edu/prc/cdc-clear-communication-index/', 120703)\n",
      "('https://www.public-health.uiowa.edu/prc/wp-content/uploads/2017/01/EBI-Resources.pdf', 120703)\n",
      "('https://www.public-health.uiowa.edu/prc/presentations/', 120703)\n",
      "('https://www.public-health.uiowa.edu/prc/wp-content/uploads/2017/01/EBI-Webinar-Slides.pdf', 120703)\n",
      "('https://www.public-health.uiowa.edu/prc/center-media/', 120703)\n",
      "('https://www.public-health.uiowa.edu/prc/active-ottumwa-fact-sheets-espanol/', 120703)\n",
      "('https://www.public-health.uiowa.edu/prc/publications-technical-reports/', 120703)\n",
      "('https://www.public-health.uiowa.edu/prc/ui-collaborators/', 120703)\n",
      "('https://www.public-health.uiowa.edu/prc/sab/', 120703)\n",
      "('https://www.public-health.uiowa.edu/prc/ui-prc-logic-model/', 120703)\n",
      "('https://www.public-health.uiowa.edu/prc/past/', 120703)\n",
      "('https://www.public-health.uiowa.edu/prc/pilot-projects/', 120703)\n",
      "('https://www.public-health.uiowa.edu/prc/former-student-profiles/', 120703)\n",
      "('https://www.public-health.uiowa.edu/prc/mission/', 120703)\n",
      "('https://www.public-health.uiowa.edu/prc/past-core-research-projects/', 120703)\n",
      "('https://www.public-health.uiowa.edu/prc/active-ottumwa/', 120703)\n",
      "('https://www.public-health.uiowa.edu/prc/core-research-projects/', 120703)\n"
     ]
    },
    {
     "name": "stdout",
     "output_type": "stream",
     "text": [
      "('https://www.public-health.uiowa.edu/prc/current/', 120703)\n",
      "('https://www.public-health.uiowa.edu/prc/ottumwa-health-survey-results/', 120703)\n",
      "('https://www.public-health.uiowa.edu/prc/iab/', 120703)\n",
      "('https://www.public-health.uiowa.edu/prc/tools-and-resources/', 120703)\n",
      "('https://www.public-health.uiowa.edu/prc/prc-30th-anniversary/', 120703)\n",
      "('https://www.public-health.uiowa.edu/prc/timeline/', 120703)\n",
      "('https://www.public-health.uiowa.edu/prc/active-ottumwa-fact-sheets/', 120703)\n",
      "('https://www.public-health.uiowa.edu/prc/community-advisory-board/', 120703)\n",
      "('https://www.public-health.uiowa.edu/prc/about/', 120703)\n",
      "('https://www.public-health.uiowa.edu/prc/active-ottumwa-faqs/', 120703)\n",
      "('https://www.public-health.uiowa.edu/prc/training-links/', 120703)\n",
      "('https://www.public-health.uiowa.edu/prc/wp-content/uploads/2017/01/AdaptationPlanningToolExample.pdf', 120703)\n",
      "('https://www.public-health.uiowa.edu/prc/directions/', 120703)\n",
      "('https://www.public-health.uiowa.edu/prc/organizational-chart/', 120703)\n",
      "('https://www.public-health.uiowa.edu/prc/publications-presentations-and-reports/', 120703)\n",
      "('https://www.public-health.uiowa.edu/prc/community-highlight-story-active-ottumwa/', 120703)\n",
      "('https://www.public-health.uiowa.edu/prc/projects/', 120703)\n",
      "('https://www.youtube.com/watch?v=Ory3dT4WA6w', 120703)\n",
      "('https://www.public-health.uiowa.edu/prc/logic-model-active-ottumwa-2/', 120703)\n",
      "('https://www.public-health.uiowa.edu/prc/faqs/', 120703)\n",
      "('https://www.public-health.uiowa.edu/prc/active-ottumwa-media-coverage-2/', 120703)\n",
      "('https://www.public-health.uiowa.edu/prc/wp-content/uploads/2017/01/AdaptationPlanningTool-Instructions.pdf', 120703)\n",
      "('https://www.public-health.uiowa.edu/prc/using-evidence-based-practices/', 120703)\n",
      "('https://www.public-health.uiowa.edu/prc/cdc-clear-communication-index/', 120703)\n",
      "('https://www.public-health.uiowa.edu/prc/wp-content/uploads/2017/01/EBI-Resources.pdf', 120703)\n",
      "('https://www.public-health.uiowa.edu/prc/presentations/', 120703)\n",
      "('https://www.public-health.uiowa.edu/prc/wp-content/uploads/2017/01/EBI-Webinar-Slides.pdf', 120703)\n",
      "('https://www.public-health.uiowa.edu/prc/center-media/', 120703)\n",
      "('https://www.public-health.uiowa.edu/prc/active-ottumwa-fact-sheets-espanol/', 120703)\n",
      "('https://www.public-health.uiowa.edu/prc/publications-technical-reports/', 120703)\n",
      "('https://www.public-health.uiowa.edu/prc/ui-collaborators/', 120703)\n",
      "('https://www.public-health.uiowa.edu/prc/sab/', 120703)\n",
      "('https://www.public-health.uiowa.edu/prc/ui-prc-logic-model/', 120703)\n",
      "('https://www.public-health.uiowa.edu/prc/past/', 120703)\n",
      "('https://www.public-health.uiowa.edu/prc/pilot-projects/', 120703)\n",
      "('https://www.public-health.uiowa.edu/prc/former-student-profiles/', 120703)\n",
      "('https://www.public-health.uiowa.edu/prc/mission/', 120703)\n",
      "('https://www.public-health.uiowa.edu/prc/past-core-research-projects/', 120703)\n",
      "('https://www.public-health.uiowa.edu/prc/active-ottumwa/', 120703)\n",
      "('https://www.public-health.uiowa.edu/prc/core-research-projects/', 120703)\n",
      "('https://www.public-health.uiowa.edu/prc/current/', 120703)\n",
      "('https://www.public-health.uiowa.edu/prc/ottumwa-health-survey-results/', 120703)\n",
      "('https://www.public-health.uiowa.edu/prc/iab/', 120703)\n",
      "('https://www.public-health.uiowa.edu/prc/tools-and-resources/', 120703)\n",
      "('https://www.public-health.uiowa.edu/prc/prc-30th-anniversary/', 120703)\n",
      "('https://www.public-health.uiowa.edu/prc/timeline/', 120703)\n",
      "('https://www.public-health.uiowa.edu/prc/active-ottumwa-fact-sheets/', 120703)\n",
      "('https://www.public-health.uiowa.edu/prc/community-advisory-board/', 120703)\n",
      "('https://www.public-health.uiowa.edu/prc/about/', 120703)\n",
      "('https://www.public-health.uiowa.edu/prc/active-ottumwa-faqs/', 120703)\n",
      "('https://www.public-health.uiowa.edu/prc/training-links/', 120703)\n",
      "('https://www.public-health.uiowa.edu/prc/wp-content/uploads/2017/01/AdaptationPlanningToolExample.pdf', 120703)\n",
      "('https://www.public-health.uiowa.edu/prc/directions/', 120703)\n",
      "('https://www.public-health.uiowa.edu/prc/organizational-chart/', 120703)\n",
      "('https://www.public-health.uiowa.edu/prc/publications-presentations-and-reports/', 120703)\n",
      "('https://www.public-health.uiowa.edu/prc/community-highlight-story-active-ottumwa/', 120703)\n",
      "('https://www.public-health.uiowa.edu/prc/projects/', 120703)\n",
      "('https://www.youtube.com/watch?v=Ory3dT4WA6w', 120703)\n",
      "('https://www.public-health.uiowa.edu/prc/logic-model-active-ottumwa-2/', 120703)\n",
      "('https://www.public-health.uiowa.edu/prc/faqs/', 120703)\n",
      "('https://www.public-health.uiowa.edu/prc/active-ottumwa-media-coverage-2/', 120703)\n",
      "('https://www.public-health.uiowa.edu/prc/wp-content/uploads/2017/01/AdaptationPlanningTool-Instructions.pdf', 120703)\n",
      "('https://www.public-health.uiowa.edu/prc/using-evidence-based-practices/', 120703)\n",
      "('https://www.public-health.uiowa.edu/prc/cdc-clear-communication-index/', 120703)\n",
      "('https://www.public-health.uiowa.edu/prc/wp-content/uploads/2017/01/EBI-Resources.pdf', 120703)\n",
      "('https://www.public-health.uiowa.edu/prc/presentations/', 120703)\n",
      "('https://www.public-health.uiowa.edu/prc/wp-content/uploads/2017/01/EBI-Webinar-Slides.pdf', 120703)\n",
      "('https://www.public-health.uiowa.edu/prc/center-media/', 120703)\n",
      "('https://www.public-health.uiowa.edu/prc/active-ottumwa-fact-sheets-espanol/', 120703)\n",
      "('https://www.public-health.uiowa.edu/prc/publications-technical-reports/', 120703)\n",
      "('https://www.public-health.uiowa.edu/prc/ui-collaborators/', 120703)\n",
      "('https://www.public-health.uiowa.edu/prc/sab/', 120703)\n",
      "('https://www.public-health.uiowa.edu/prc/ui-prc-logic-model/', 120703)\n",
      "('https://www.public-health.uiowa.edu/prc/past/', 120703)\n",
      "('https://www.public-health.uiowa.edu/prc/pilot-projects/', 120703)\n",
      "('https://www.public-health.uiowa.edu/prc/former-student-profiles/', 120703)\n",
      "('https://www.public-health.uiowa.edu/prc/mission/', 120703)\n",
      "('https://www.public-health.uiowa.edu/prc/past-core-research-projects/', 120703)\n",
      "('https://www.public-health.uiowa.edu/prc/active-ottumwa/', 120703)\n",
      "('https://www.public-health.uiowa.edu/prc/core-research-projects/', 120703)\n",
      "('https://www.public-health.uiowa.edu/prc/current/', 120703)\n",
      "('https://www.public-health.uiowa.edu/prc/ottumwa-health-survey-results/', 120703)\n",
      "('https://www.public-health.uiowa.edu/prc/iab/', 120703)\n",
      "('https://www.public-health.uiowa.edu/prc/tools-and-resources/', 120703)\n",
      "('https://www.public-health.uiowa.edu/prc/prc-30th-anniversary/', 120703)\n",
      "('https://www.public-health.uiowa.edu/prc/timeline/', 120703)\n",
      "('https://www.public-health.uiowa.edu/prc/active-ottumwa-fact-sheets/', 120703)\n",
      "('https://www.public-health.uiowa.edu/prc/community-advisory-board/', 120703)\n",
      "('https://www.public-health.uiowa.edu/prc/about/', 120703)\n",
      "('https://www.public-health.uiowa.edu/prc/active-ottumwa-faqs/', 120703)\n",
      "('https://www.public-health.uiowa.edu/prc/training-links/', 120703)\n",
      "('https://www.public-health.uiowa.edu/prc/wp-content/uploads/2017/01/AdaptationPlanningToolExample.pdf', 120703)\n",
      "('https://www.public-health.uiowa.edu/prc/directions/', 120703)\n",
      "('https://www.public-health.uiowa.edu/prc/organizational-chart/', 120703)\n",
      "('https://www.public-health.uiowa.edu/prc/publications-presentations-and-reports/', 120703)\n",
      "('https://www.public-health.uiowa.edu/prc/community-highlight-story-active-ottumwa/', 120703)\n",
      "('https://www.public-health.uiowa.edu/prc/projects/', 120703)\n",
      "('https://www.youtube.com/watch?v=Ory3dT4WA6w', 120703)\n",
      "('https://www.public-health.uiowa.edu/prc/logic-model-active-ottumwa-2/', 120703)\n",
      "('https://www.public-health.uiowa.edu/prc/faqs/', 120703)\n",
      "('https://www.public-health.uiowa.edu/prc/active-ottumwa-media-coverage-2/', 120703)\n",
      "('https://www.public-health.uiowa.edu/prc/wp-content/uploads/2017/01/AdaptationPlanningTool-Instructions.pdf', 120703)\n",
      "('https://www.public-health.uiowa.edu/prc/using-evidence-based-practices/', 120703)\n",
      "('https://www.public-health.uiowa.edu/prc/cdc-clear-communication-index/', 120703)\n",
      "('https://www.public-health.uiowa.edu/prc/wp-content/uploads/2017/01/EBI-Resources.pdf', 120703)\n",
      "('https://www.public-health.uiowa.edu/prc/presentations/', 120703)\n",
      "('https://www.public-health.uiowa.edu/prc/wp-content/uploads/2017/01/EBI-Webinar-Slides.pdf', 120703)\n",
      "('https://www.public-health.uiowa.edu/prc/center-media/', 120703)\n",
      "('https://www.public-health.uiowa.edu/prc/active-ottumwa-fact-sheets-espanol/', 120703)\n",
      "('https://www.public-health.uiowa.edu/prc/publications-technical-reports/', 120703)\n",
      "('https://www.public-health.uiowa.edu/prc/ui-collaborators/', 120703)\n",
      "('https://www.public-health.uiowa.edu/prc/sab/', 120703)\n",
      "('https://www.public-health.uiowa.edu/prc/ui-prc-logic-model/', 120703)\n",
      "('https://www.public-health.uiowa.edu/prc/past/', 120703)\n",
      "('https://www.public-health.uiowa.edu/prc/pilot-projects/', 120703)\n",
      "('https://www.public-health.uiowa.edu/prc/former-student-profiles/', 120703)\n",
      "('https://www.public-health.uiowa.edu/prc/mission/', 120703)\n",
      "('https://www.public-health.uiowa.edu/prc/past-core-research-projects/', 120703)\n",
      "('https://www.public-health.uiowa.edu/prc/active-ottumwa/', 120703)\n",
      "('https://www.public-health.uiowa.edu/prc/core-research-projects/', 120703)\n"
     ]
    },
    {
     "name": "stdout",
     "output_type": "stream",
     "text": [
      "('https://www.public-health.uiowa.edu/prc/current/', 120703)\n",
      "('https://www.public-health.uiowa.edu/prc/ottumwa-health-survey-results/', 120703)\n",
      "('https://www.public-health.uiowa.edu/prc/iab/', 120703)\n",
      "('https://www.public-health.uiowa.edu/prc/tools-and-resources/', 120703)\n",
      "('https://www.public-health.uiowa.edu/prc/prc-30th-anniversary/', 120703)\n",
      "('https://www.public-health.uiowa.edu/prc/timeline/', 120703)\n",
      "('https://www.public-health.uiowa.edu/prc/active-ottumwa-fact-sheets/', 120703)\n",
      "('https://www.public-health.uiowa.edu/prc/community-advisory-board/', 120703)\n",
      "('https://www.public-health.uiowa.edu/prc/about/', 120703)\n",
      "('https://www.public-health.uiowa.edu/prc/active-ottumwa-faqs/', 120703)\n",
      "('https://www.public-health.uiowa.edu/prc/training-links/', 120703)\n",
      "('https://www.public-health.uiowa.edu/prc/wp-content/uploads/2017/01/AdaptationPlanningToolExample.pdf', 120703)\n",
      "('https://www.public-health.uiowa.edu/prc/directions/', 120703)\n",
      "('https://www.public-health.uiowa.edu/prc/organizational-chart/', 120703)\n",
      "('https://www.public-health.uiowa.edu/prc/publications-presentations-and-reports/', 120703)\n",
      "('https://www.public-health.uiowa.edu/prc/community-highlight-story-active-ottumwa/', 120703)\n",
      "('https://www.public-health.uiowa.edu/prc/projects/', 120703)\n",
      "('https://www.youtube.com/watch?v=Ory3dT4WA6w', 120703)\n",
      "('https://www.public-health.uiowa.edu/prc/logic-model-active-ottumwa-2/', 120703)\n",
      "('https://www.public-health.uiowa.edu/prc/faqs/', 120703)\n",
      "('https://www.public-health.uiowa.edu/prc/active-ottumwa-media-coverage-2/', 120703)\n",
      "('https://www.public-health.uiowa.edu/prc/wp-content/uploads/2017/01/AdaptationPlanningTool-Instructions.pdf', 120703)\n",
      "('https://www.public-health.uiowa.edu/prc/using-evidence-based-practices/', 120703)\n",
      "('https://www.public-health.uiowa.edu/prc/cdc-clear-communication-index/', 120703)\n",
      "('https://www.public-health.uiowa.edu/prc/wp-content/uploads/2017/01/EBI-Resources.pdf', 120703)\n",
      "('https://www.public-health.uiowa.edu/prc/presentations/', 120703)\n",
      "('https://www.public-health.uiowa.edu/prc/wp-content/uploads/2017/01/EBI-Webinar-Slides.pdf', 120703)\n",
      "('https://www.public-health.uiowa.edu/prc/center-media/', 120703)\n",
      "('https://www.public-health.uiowa.edu/prc/active-ottumwa-fact-sheets-espanol/', 120703)\n",
      "('https://www.public-health.uiowa.edu/prc/publications-technical-reports/', 120703)\n",
      "('https://www.public-health.uiowa.edu/prc/ui-collaborators/', 120703)\n",
      "('https://www.public-health.uiowa.edu/prc/sab/', 120703)\n",
      "('https://www.public-health.uiowa.edu/prc/ui-prc-logic-model/', 120703)\n",
      "('https://www.public-health.uiowa.edu/prc/past/', 120703)\n",
      "('https://www.public-health.uiowa.edu/prc/pilot-projects/', 120703)\n",
      "('https://www.public-health.uiowa.edu/prc/former-student-profiles/', 120703)\n",
      "('https://www.public-health.uiowa.edu/prc/mission/', 120703)\n",
      "('https://www.public-health.uiowa.edu/prc/past-core-research-projects/', 120703)\n",
      "('https://www.public-health.uiowa.edu/prc/active-ottumwa/', 120703)\n",
      "('https://www.public-health.uiowa.edu/prc/core-research-projects/', 120703)\n",
      "('https://www.public-health.uiowa.edu/prc/current/', 120703)\n",
      "('https://www.public-health.uiowa.edu/prc/ottumwa-health-survey-results/', 120703)\n",
      "('https://www.public-health.uiowa.edu/prc/iab/', 120703)\n",
      "('https://www.public-health.uiowa.edu/prc/tools-and-resources/', 120703)\n",
      "('https://www.public-health.uiowa.edu/prc/prc-30th-anniversary/', 120703)\n",
      "('https://www.public-health.uiowa.edu/prc/timeline/', 120703)\n",
      "('https://www.public-health.uiowa.edu/prc/active-ottumwa-fact-sheets/', 120703)\n",
      "('https://www.public-health.uiowa.edu/prc/community-advisory-board/', 120703)\n",
      "('https://www.public-health.uiowa.edu/prc/about/', 120703)\n",
      "('https://www.public-health.uiowa.edu/prc/active-ottumwa-faqs/', 120703)\n",
      "('https://www.public-health.uiowa.edu/prc/training-links/', 120703)\n",
      "('https://www.public-health.uiowa.edu/prc/wp-content/uploads/2017/01/AdaptationPlanningToolExample.pdf', 120703)\n",
      "('https://www.public-health.uiowa.edu/prc/directions/', 120703)\n",
      "('https://www.public-health.uiowa.edu/prc/organizational-chart/', 120703)\n",
      "('https://www.public-health.uiowa.edu/prc/publications-presentations-and-reports/', 120703)\n",
      "('https://www.public-health.uiowa.edu/prc/community-highlight-story-active-ottumwa/', 120703)\n",
      "('https://www.public-health.uiowa.edu/prc/projects/', 120703)\n",
      "('https://www.youtube.com/watch?v=Ory3dT4WA6w', 120703)\n",
      "('https://www.public-health.uiowa.edu/prc/logic-model-active-ottumwa-2/', 120703)\n",
      "('https://www.public-health.uiowa.edu/prc/faqs/', 120703)\n",
      "('https://www.public-health.uiowa.edu/prc/active-ottumwa-media-coverage-2/', 120703)\n",
      "('https://www.public-health.uiowa.edu/prc/wp-content/uploads/2017/01/AdaptationPlanningTool-Instructions.pdf', 120703)\n",
      "('https://www.public-health.uiowa.edu/prc/using-evidence-based-practices/', 120703)\n",
      "('https://www.public-health.uiowa.edu/prc/cdc-clear-communication-index/', 120703)\n",
      "('https://www.public-health.uiowa.edu/prc/wp-content/uploads/2017/01/EBI-Resources.pdf', 120703)\n",
      "('https://www.public-health.uiowa.edu/prc/presentations/', 120703)\n",
      "('https://www.public-health.uiowa.edu/prc/wp-content/uploads/2017/01/EBI-Webinar-Slides.pdf', 120703)\n",
      "('https://www.public-health.uiowa.edu/prc/center-media/', 120703)\n",
      "('https://www.public-health.uiowa.edu/prc/active-ottumwa-fact-sheets-espanol/', 120703)\n",
      "('https://www.public-health.uiowa.edu/prc/publications-technical-reports/', 120703)\n",
      "('https://www.public-health.uiowa.edu/prc/ui-collaborators/', 120703)\n",
      "('https://www.public-health.uiowa.edu/prc/sab/', 120703)\n",
      "('https://www.public-health.uiowa.edu/prc/ui-prc-logic-model/', 120703)\n",
      "('https://www.public-health.uiowa.edu/prc/past/', 120703)\n",
      "('https://www.public-health.uiowa.edu/prc/pilot-projects/', 120703)\n",
      "('https://www.public-health.uiowa.edu/prc/former-student-profiles/', 120703)\n",
      "('https://www.public-health.uiowa.edu/prc/mission/', 120703)\n",
      "('https://www.public-health.uiowa.edu/prc/past-core-research-projects/', 120703)\n",
      "('https://www.public-health.uiowa.edu/prc/active-ottumwa/', 120703)\n",
      "('https://www.public-health.uiowa.edu/prc/core-research-projects/', 120703)\n",
      "('https://www.public-health.uiowa.edu/prc/current/', 120703)\n",
      "('https://www.public-health.uiowa.edu/prc/ottumwa-health-survey-results/', 120703)\n",
      "('https://www.public-health.uiowa.edu/prc/iab/', 120703)\n",
      "('https://www.public-health.uiowa.edu/prc/tools-and-resources/', 120703)\n",
      "('https://www.public-health.uiowa.edu/prc/prc-30th-anniversary/', 120703)\n",
      "('https://www.public-health.uiowa.edu/prc/timeline/', 120703)\n",
      "('https://www.public-health.uiowa.edu/prc/active-ottumwa-fact-sheets/', 120703)\n",
      "('https://www.public-health.uiowa.edu/prc/community-advisory-board/', 120703)\n",
      "('https://www.public-health.uiowa.edu/prc/about/', 120703)\n",
      "('https://www.public-health.uiowa.edu/prc/active-ottumwa-faqs/', 120703)\n",
      "('https://www.public-health.uiowa.edu/prc/training-links/', 120703)\n",
      "('https://www.public-health.uiowa.edu/prc/wp-content/uploads/2017/01/AdaptationPlanningToolExample.pdf', 120703)\n",
      "('https://www.public-health.uiowa.edu/prc/directions/', 120703)\n",
      "('https://www.public-health.uiowa.edu/prc/organizational-chart/', 120703)\n",
      "('https://www.public-health.uiowa.edu/prc/publications-presentations-and-reports/', 120703)\n",
      "('https://www.public-health.uiowa.edu/prc/community-highlight-story-active-ottumwa/', 120703)\n",
      "('https://www.public-health.uiowa.edu/prc/projects/', 120703)\n",
      "('https://www.youtube.com/watch?v=Ory3dT4WA6w', 120703)\n",
      "('https://www.public-health.uiowa.edu/prc/logic-model-active-ottumwa-2/', 120703)\n",
      "('https://www.public-health.uiowa.edu/prc/faqs/', 120703)\n",
      "('https://www.public-health.uiowa.edu/prc/active-ottumwa-media-coverage-2/', 120703)\n",
      "('https://www.public-health.uiowa.edu/prc/wp-content/uploads/2017/01/AdaptationPlanningTool-Instructions.pdf', 120703)\n",
      "('https://www.public-health.uiowa.edu/prc/using-evidence-based-practices/', 120703)\n",
      "('https://www.public-health.uiowa.edu/prc/cdc-clear-communication-index/', 120703)\n",
      "('https://www.public-health.uiowa.edu/prc/wp-content/uploads/2017/01/EBI-Resources.pdf', 120703)\n",
      "('https://www.public-health.uiowa.edu/prc/presentations/', 120703)\n",
      "('https://www.public-health.uiowa.edu/prc/wp-content/uploads/2017/01/EBI-Webinar-Slides.pdf', 120703)\n",
      "('https://www.public-health.uiowa.edu/prc/center-media/', 120703)\n",
      "('https://www.public-health.uiowa.edu/prc/active-ottumwa-fact-sheets-espanol/', 120703)\n",
      "('https://www.public-health.uiowa.edu/prc/publications-technical-reports/', 120703)\n",
      "('https://www.public-health.uiowa.edu/prc/ui-collaborators/', 120703)\n",
      "('https://www.public-health.uiowa.edu/prc/sab/', 120703)\n",
      "('https://www.public-health.uiowa.edu/prc/ui-prc-logic-model/', 120703)\n",
      "('https://www.public-health.uiowa.edu/prc/past/', 120703)\n",
      "('https://www.public-health.uiowa.edu/prc/pilot-projects/', 120703)\n",
      "('https://www.public-health.uiowa.edu/prc/former-student-profiles/', 120703)\n",
      "('https://www.public-health.uiowa.edu/prc/mission/', 120703)\n",
      "('https://www.public-health.uiowa.edu/prc/past-core-research-projects/', 120703)\n",
      "('https://www.public-health.uiowa.edu/prc/active-ottumwa/', 120703)\n",
      "('https://www.public-health.uiowa.edu/prc/core-research-projects/', 120703)\n"
     ]
    },
    {
     "name": "stdout",
     "output_type": "stream",
     "text": [
      "('https://www.public-health.uiowa.edu/prc/current/', 120703)\n",
      "('https://www.public-health.uiowa.edu/prc/ottumwa-health-survey-results/', 120703)\n",
      "('https://www.public-health.uiowa.edu/prc/iab/', 120703)\n",
      "('https://www.public-health.uiowa.edu/prc/tools-and-resources/', 120703)\n",
      "('https://www.public-health.uiowa.edu/prc/prc-30th-anniversary/', 120703)\n",
      "('https://www.public-health.uiowa.edu/prc/timeline/', 120703)\n",
      "('https://www.public-health.uiowa.edu/prc/active-ottumwa-fact-sheets/', 120703)\n",
      "('https://www.public-health.uiowa.edu/prc/community-advisory-board/', 120703)\n",
      "('https://www.public-health.uiowa.edu/prc/about/', 120703)\n",
      "('https://www.public-health.uiowa.edu/prc/active-ottumwa-faqs/', 120703)\n",
      "('https://www.public-health.uiowa.edu/prc/training-links/', 120703)\n",
      "('https://www.public-health.uiowa.edu/prc/wp-content/uploads/2017/01/AdaptationPlanningToolExample.pdf', 120703)\n",
      "('https://www.public-health.uiowa.edu/prc/directions/', 120703)\n",
      "('https://www.public-health.uiowa.edu/prc/organizational-chart/', 120703)\n",
      "('https://www.public-health.uiowa.edu/prc/publications-presentations-and-reports/', 120703)\n",
      "('https://www.public-health.uiowa.edu/prc/community-highlight-story-active-ottumwa/', 120703)\n",
      "('https://www.public-health.uiowa.edu/prc/projects/', 120703)\n",
      "('https://www.youtube.com/watch?v=Ory3dT4WA6w', 120703)\n",
      "('https://www.public-health.uiowa.edu/prc/logic-model-active-ottumwa-2/', 120703)\n",
      "('https://www.public-health.uiowa.edu/prc/faqs/', 120703)\n",
      "('https://www.public-health.uiowa.edu/prc/active-ottumwa-media-coverage-2/', 120703)\n",
      "('https://www.public-health.uiowa.edu/prc/wp-content/uploads/2017/01/AdaptationPlanningTool-Instructions.pdf', 120703)\n",
      "('https://www.public-health.uiowa.edu/prc/using-evidence-based-practices/', 120703)\n",
      "('https://www.public-health.uiowa.edu/prc/cdc-clear-communication-index/', 120703)\n",
      "('https://www.public-health.uiowa.edu/prc/wp-content/uploads/2017/01/EBI-Resources.pdf', 120703)\n",
      "('https://www.public-health.uiowa.edu/prc/presentations/', 120703)\n",
      "('https://www.public-health.uiowa.edu/prc/wp-content/uploads/2017/01/EBI-Webinar-Slides.pdf', 120703)\n",
      "('https://www.public-health.uiowa.edu/prc/center-media/', 120703)\n",
      "('https://www.public-health.uiowa.edu/prc/active-ottumwa-fact-sheets-espanol/', 120703)\n",
      "('https://www.public-health.uiowa.edu/prc/publications-technical-reports/', 120703)\n",
      "('https://www.public-health.uiowa.edu/prc/ui-collaborators/', 120703)\n",
      "('https://www.public-health.uiowa.edu/prc/sab/', 120703)\n",
      "('https://www.public-health.uiowa.edu/prc/ui-prc-logic-model/', 120703)\n",
      "('https://www.public-health.uiowa.edu/prc/past/', 120703)\n",
      "('https://www.public-health.uiowa.edu/prc/pilot-projects/', 120703)\n",
      "('https://www.public-health.uiowa.edu/prc/former-student-profiles/', 120703)\n",
      "('https://www.public-health.uiowa.edu/prc/mission/', 120703)\n",
      "('https://www.public-health.uiowa.edu/prc/past-core-research-projects/', 120703)\n",
      "('https://www.public-health.uiowa.edu/prc/active-ottumwa/', 120703)\n",
      "('https://www.public-health.uiowa.edu/prc/core-research-projects/', 120703)\n",
      "('https://www.public-health.uiowa.edu/prc/current/', 120703)\n",
      "('https://www.public-health.uiowa.edu/prc/ottumwa-health-survey-results/', 120703)\n",
      "('https://www.public-health.uiowa.edu/prc/iab/', 120703)\n",
      "('https://www.public-health.uiowa.edu/prc/tools-and-resources/', 120703)\n",
      "('https://www.public-health.uiowa.edu/prc/prc-30th-anniversary/', 120703)\n",
      "('https://www.public-health.uiowa.edu/prc/timeline/', 120703)\n",
      "('https://www.public-health.uiowa.edu/prc/active-ottumwa-fact-sheets/', 120703)\n",
      "('https://www.public-health.uiowa.edu/prc/community-advisory-board/', 120703)\n",
      "('https://www.public-health.uiowa.edu/prc/about/', 120703)\n",
      "('https://www.public-health.uiowa.edu/prc/active-ottumwa-faqs/', 120703)\n",
      "('https://www.public-health.uiowa.edu/prc/training-links/', 120703)\n",
      "('https://www.public-health.uiowa.edu/prc/wp-content/uploads/2017/01/AdaptationPlanningToolExample.pdf', 120703)\n",
      "('https://www.public-health.uiowa.edu/prc/directions/', 120703)\n",
      "('https://www.public-health.uiowa.edu/prc/organizational-chart/', 120703)\n",
      "('https://www.public-health.uiowa.edu/prc/publications-presentations-and-reports/', 120703)\n",
      "('https://www.public-health.uiowa.edu/prc/community-highlight-story-active-ottumwa/', 120703)\n",
      "('https://www.public-health.uiowa.edu/prc/projects/', 120703)\n",
      "('https://www.youtube.com/watch?v=Ory3dT4WA6w', 120703)\n",
      "('https://www.public-health.uiowa.edu/prc/logic-model-active-ottumwa-2/', 120703)\n",
      "('https://www.public-health.uiowa.edu/prc/faqs/', 120703)\n",
      "('https://www.public-health.uiowa.edu/prc/active-ottumwa-media-coverage-2/', 120703)\n",
      "('https://www.public-health.uiowa.edu/prc/wp-content/uploads/2017/01/AdaptationPlanningTool-Instructions.pdf', 120703)\n",
      "('https://www.public-health.uiowa.edu/prc/using-evidence-based-practices/', 120703)\n",
      "('https://www.public-health.uiowa.edu/prc/cdc-clear-communication-index/', 120703)\n",
      "('https://www.public-health.uiowa.edu/prc/wp-content/uploads/2017/01/EBI-Resources.pdf', 120703)\n",
      "('https://www.public-health.uiowa.edu/prc/presentations/', 120703)\n",
      "('https://www.public-health.uiowa.edu/prc/wp-content/uploads/2017/01/EBI-Webinar-Slides.pdf', 120703)\n",
      "('https://www.public-health.uiowa.edu/prc/center-media/', 120703)\n",
      "('https://www.public-health.uiowa.edu/prc/active-ottumwa-fact-sheets-espanol/', 120703)\n",
      "('https://www.public-health.uiowa.edu/prc/publications-technical-reports/', 120703)\n",
      "('https://www.public-health.uiowa.edu/prc/ui-collaborators/', 120703)\n",
      "('https://www.public-health.uiowa.edu/prc/sab/', 120703)\n",
      "('https://www.public-health.uiowa.edu/prc/ui-prc-logic-model/', 120703)\n",
      "('https://www.public-health.uiowa.edu/prc/past/', 120703)\n",
      "('https://www.public-health.uiowa.edu/prc/pilot-projects/', 120703)\n",
      "('https://www.public-health.uiowa.edu/prc/former-student-profiles/', 120703)\n",
      "('https://www.public-health.uiowa.edu/prc/mission/', 120703)\n",
      "('https://www.public-health.uiowa.edu/prc/past-core-research-projects/', 120703)\n",
      "('https://www.public-health.uiowa.edu/prc/active-ottumwa/', 120703)\n",
      "('https://www.public-health.uiowa.edu/prc/core-research-projects/', 120703)\n",
      "('https://www.public-health.uiowa.edu/prc/current/', 120703)\n",
      "('https://www.public-health.uiowa.edu/prc/ottumwa-health-survey-results/', 120703)\n",
      "('https://www.public-health.uiowa.edu/prc/iab/', 120703)\n",
      "('https://www.public-health.uiowa.edu/prc/tools-and-resources/', 120703)\n",
      "('https://www.public-health.uiowa.edu/prc/prc-30th-anniversary/', 120703)\n",
      "('https://www.public-health.uiowa.edu/prc/timeline/', 120703)\n",
      "('https://www.public-health.uiowa.edu/prc/active-ottumwa-fact-sheets/', 120703)\n",
      "('https://www.public-health.uiowa.edu/prc/community-advisory-board/', 120703)\n",
      "('https://www.public-health.uiowa.edu/prc/about/', 120703)\n",
      "('https://www.public-health.uiowa.edu/prc/active-ottumwa-faqs/', 120703)\n",
      "('https://www.public-health.uiowa.edu/prc/training-links/', 120703)\n",
      "('https://www.public-health.uiowa.edu/prc/wp-content/uploads/2017/01/AdaptationPlanningToolExample.pdf', 120703)\n",
      "('https://www.public-health.uiowa.edu/prc/directions/', 120703)\n",
      "('https://www.public-health.uiowa.edu/prc/organizational-chart/', 120703)\n",
      "('https://www.public-health.uiowa.edu/prc/publications-presentations-and-reports/', 120703)\n",
      "('https://www.public-health.uiowa.edu/prc/community-highlight-story-active-ottumwa/', 120703)\n",
      "('https://www.public-health.uiowa.edu/prc/projects/', 120703)\n",
      "('https://www.youtube.com/watch?v=Ory3dT4WA6w', 120703)\n",
      "('https://www.public-health.uiowa.edu/prc/logic-model-active-ottumwa-2/', 120703)\n",
      "('https://www.public-health.uiowa.edu/prc/faqs/', 120703)\n",
      "('https://www.public-health.uiowa.edu/prc/active-ottumwa-media-coverage-2/', 120703)\n",
      "('https://www.public-health.uiowa.edu/prc/wp-content/uploads/2017/01/AdaptationPlanningTool-Instructions.pdf', 120703)\n",
      "('https://www.public-health.uiowa.edu/prc/using-evidence-based-practices/', 120703)\n",
      "('https://www.public-health.uiowa.edu/prc/cdc-clear-communication-index/', 120703)\n",
      "('https://www.public-health.uiowa.edu/prc/wp-content/uploads/2017/01/EBI-Resources.pdf', 120703)\n",
      "('https://www.public-health.uiowa.edu/prc/presentations/', 120703)\n",
      "('https://www.public-health.uiowa.edu/prc/wp-content/uploads/2017/01/EBI-Webinar-Slides.pdf', 120703)\n",
      "('https://www.public-health.uiowa.edu/prc/center-media/', 120703)\n",
      "('https://www.public-health.uiowa.edu/prc/active-ottumwa-fact-sheets-espanol/', 120703)\n",
      "('https://www.public-health.uiowa.edu/prc/publications-technical-reports/', 120703)\n"
     ]
    },
    {
     "name": "stdout",
     "output_type": "stream",
     "text": [
      "('https://www.public-health.uiowa.edu/prc/ui-collaborators/', 120703)\n",
      "('https://www.public-health.uiowa.edu/prc/sab/', 120703)\n",
      "('https://www.public-health.uiowa.edu/prc/ui-prc-logic-model/', 120703)\n",
      "('https://www.public-health.uiowa.edu/prc/past/', 120703)\n",
      "('https://www.public-health.uiowa.edu/prc/pilot-projects/', 120703)\n",
      "('https://www.public-health.uiowa.edu/prc/former-student-profiles/', 120703)\n",
      "('https://www.public-health.uiowa.edu/prc/mission/', 120703)\n",
      "('https://www.public-health.uiowa.edu/prc/past-core-research-projects/', 120703)\n",
      "('https://www.public-health.uiowa.edu/prc/active-ottumwa/', 120703)\n",
      "('https://www.public-health.uiowa.edu/prc/core-research-projects/', 120703)\n",
      "('https://www.public-health.uiowa.edu/prc/current/', 120703)\n",
      "('https://www.public-health.uiowa.edu/prc/ottumwa-health-survey-results/', 120703)\n",
      "('https://www.public-health.uiowa.edu/prc/iab/', 120703)\n",
      "('https://www.public-health.uiowa.edu/prc/tools-and-resources/', 120703)\n",
      "('https://www.public-health.uiowa.edu/prc/prc-30th-anniversary/', 120703)\n",
      "('https://www.public-health.uiowa.edu/prc/timeline/', 120703)\n",
      "('https://www.public-health.uiowa.edu/prc/active-ottumwa-fact-sheets/', 120703)\n",
      "('https://www.public-health.uiowa.edu/prc/community-advisory-board/', 120703)\n",
      "('https://www.public-health.uiowa.edu/prc/about/', 120703)\n",
      "('https://www.public-health.uiowa.edu/prc/active-ottumwa-faqs/', 120703)\n",
      "('https://www.public-health.uiowa.edu/prc/training-links/', 120703)\n",
      "('https://www.public-health.uiowa.edu/prc/wp-content/uploads/2017/01/AdaptationPlanningToolExample.pdf', 120703)\n",
      "('https://www.public-health.uiowa.edu/prc/directions/', 120703)\n",
      "('https://www.public-health.uiowa.edu/prc/organizational-chart/', 120703)\n",
      "('https://www.public-health.uiowa.edu/prc/publications-presentations-and-reports/', 120703)\n",
      "('https://www.public-health.uiowa.edu/prc/community-highlight-story-active-ottumwa/', 120703)\n",
      "('https://www.public-health.uiowa.edu/prc/projects/', 120703)\n",
      "('https://www.youtube.com/watch?v=Ory3dT4WA6w', 120703)\n",
      "('https://www.public-health.uiowa.edu/prc/logic-model-active-ottumwa-2/', 120703)\n",
      "('https://www.public-health.uiowa.edu/prc/faqs/', 120703)\n",
      "('https://www.public-health.uiowa.edu/prc/active-ottumwa-media-coverage-2/', 120703)\n",
      "('https://www.public-health.uiowa.edu/prc/wp-content/uploads/2017/01/AdaptationPlanningTool-Instructions.pdf', 120703)\n",
      "('https://www.public-health.uiowa.edu/prc/using-evidence-based-practices/', 120703)\n",
      "('https://www.public-health.uiowa.edu/prc/cdc-clear-communication-index/', 120703)\n",
      "('https://www.public-health.uiowa.edu/prc/wp-content/uploads/2017/01/EBI-Resources.pdf', 120703)\n",
      "('https://www.public-health.uiowa.edu/prc/presentations/', 120703)\n",
      "('https://www.public-health.uiowa.edu/prc/wp-content/uploads/2017/01/EBI-Webinar-Slides.pdf', 120703)\n",
      "('https://www.public-health.uiowa.edu/prc/center-media/', 120703)\n",
      "('https://www.public-health.uiowa.edu/prc/active-ottumwa-fact-sheets-espanol/', 120703)\n",
      "('https://www.public-health.uiowa.edu/prc/publications-technical-reports/', 120703)\n",
      "('https://www.public-health.uiowa.edu/prc/ui-collaborators/', 120703)\n",
      "('https://www.public-health.uiowa.edu/prc/sab/', 120703)\n",
      "('https://www.public-health.uiowa.edu/prc/ui-prc-logic-model/', 120703)\n",
      "('https://www.public-health.uiowa.edu/prc/past/', 120703)\n",
      "('https://www.public-health.uiowa.edu/prc/pilot-projects/', 120703)\n",
      "('https://www.public-health.uiowa.edu/prc/former-student-profiles/', 120703)\n",
      "('https://www.public-health.uiowa.edu/prc/mission/', 120703)\n",
      "('https://www.public-health.uiowa.edu/prc/past-core-research-projects/', 120703)\n",
      "('https://www.public-health.uiowa.edu/prc/active-ottumwa/', 120703)\n",
      "('https://www.public-health.uiowa.edu/prc/core-research-projects/', 120703)\n",
      "('https://www.public-health.uiowa.edu/prc/current/', 120703)\n",
      "('https://www.public-health.uiowa.edu/prc/ottumwa-health-survey-results/', 120703)\n",
      "('https://www.public-health.uiowa.edu/prc/iab/', 120703)\n",
      "('https://www.public-health.uiowa.edu/prc/tools-and-resources/', 120703)\n",
      "('https://www.public-health.uiowa.edu/prc/prc-30th-anniversary/', 120703)\n",
      "('https://www.public-health.uiowa.edu/prc/timeline/', 120703)\n",
      "('https://www.public-health.uiowa.edu/prc/active-ottumwa-fact-sheets/', 120703)\n",
      "('https://www.public-health.uiowa.edu/prc/community-advisory-board/', 120703)\n",
      "('https://www.public-health.uiowa.edu/prc/about/', 120703)\n",
      "('https://www.public-health.uiowa.edu/prc/active-ottumwa-faqs/', 120703)\n",
      "('https://www.public-health.uiowa.edu/prc/training-links/', 120703)\n",
      "('https://www.public-health.uiowa.edu/prc/wp-content/uploads/2017/01/AdaptationPlanningToolExample.pdf', 120703)\n",
      "('https://www.public-health.uiowa.edu/prc/directions/', 120703)\n",
      "('https://www.public-health.uiowa.edu/prc/organizational-chart/', 120703)\n",
      "('https://www.public-health.uiowa.edu/prc/publications-presentations-and-reports/', 120703)\n",
      "('https://www.public-health.uiowa.edu/prc/community-highlight-story-active-ottumwa/', 120703)\n",
      "('https://www.public-health.uiowa.edu/prc/projects/', 120703)\n",
      "('https://www.youtube.com/watch?v=Ory3dT4WA6w', 120703)\n",
      "('https://www.public-health.uiowa.edu/prc/logic-model-active-ottumwa-2/', 120703)\n",
      "('https://www.public-health.uiowa.edu/prc/faqs/', 120703)\n",
      "('https://www.public-health.uiowa.edu/prc/active-ottumwa-media-coverage-2/', 120703)\n",
      "('https://www.public-health.uiowa.edu/prc/wp-content/uploads/2017/01/AdaptationPlanningTool-Instructions.pdf', 120703)\n",
      "('https://www.public-health.uiowa.edu/prc/using-evidence-based-practices/', 120703)\n",
      "('https://www.public-health.uiowa.edu/prc/cdc-clear-communication-index/', 120703)\n",
      "('https://www.public-health.uiowa.edu/prc/wp-content/uploads/2017/01/EBI-Resources.pdf', 120703)\n",
      "('https://www.public-health.uiowa.edu/prc/presentations/', 120703)\n",
      "('https://www.public-health.uiowa.edu/prc/wp-content/uploads/2017/01/EBI-Webinar-Slides.pdf', 120703)\n",
      "('https://www.public-health.uiowa.edu/prc/center-media/', 120703)\n",
      "('https://www.public-health.uiowa.edu/prc/active-ottumwa-fact-sheets-espanol/', 120703)\n",
      "('https://www.public-health.uiowa.edu/prc/publications-technical-reports/', 120703)\n",
      "('https://www.public-health.uiowa.edu/prc/ui-collaborators/', 120703)\n",
      "('https://www.public-health.uiowa.edu/prc/sab/', 120703)\n",
      "('https://www.public-health.uiowa.edu/prc/ui-prc-logic-model/', 120703)\n",
      "('https://www.public-health.uiowa.edu/prc/past/', 120703)\n",
      "('https://www.public-health.uiowa.edu/prc/pilot-projects/', 120703)\n",
      "('https://www.public-health.uiowa.edu/prc/former-student-profiles/', 120703)\n",
      "('https://www.public-health.uiowa.edu/prc/mission/', 120703)\n",
      "('https://www.public-health.uiowa.edu/prc/past-core-research-projects/', 120703)\n",
      "('https://www.public-health.uiowa.edu/prc/active-ottumwa/', 120703)\n",
      "('https://www.public-health.uiowa.edu/prc/core-research-projects/', 120703)\n",
      "('https://www.public-health.uiowa.edu/prc/current/', 120703)\n",
      "('https://www.public-health.uiowa.edu/prc/ottumwa-health-survey-results/', 120703)\n",
      "('https://www.public-health.uiowa.edu/prc/iab/', 120703)\n",
      "('https://www.public-health.uiowa.edu/prc/tools-and-resources/', 120703)\n",
      "('https://www.public-health.uiowa.edu/prc/prc-30th-anniversary/', 120703)\n",
      "('https://www.public-health.uiowa.edu/prc/timeline/', 120703)\n",
      "('https://www.public-health.uiowa.edu/prc/active-ottumwa-fact-sheets/', 120703)\n",
      "('https://www.public-health.uiowa.edu/prc/community-advisory-board/', 120703)\n",
      "('https://www.public-health.uiowa.edu/prc/about/', 120703)\n",
      "('https://www.public-health.uiowa.edu/prc/active-ottumwa-faqs/', 120703)\n",
      "('https://www.public-health.uiowa.edu/prc/training-links/', 120703)\n",
      "('https://www.public-health.uiowa.edu/prc/wp-content/uploads/2017/01/AdaptationPlanningToolExample.pdf', 120703)\n",
      "('https://www.public-health.uiowa.edu/prc/directions/', 120703)\n",
      "('https://www.public-health.uiowa.edu/prc/organizational-chart/', 120703)\n",
      "('https://www.public-health.uiowa.edu/prc/publications-presentations-and-reports/', 120703)\n",
      "('https://www.public-health.uiowa.edu/prc/community-highlight-story-active-ottumwa/', 120703)\n",
      "('https://www.public-health.uiowa.edu/prc/projects/', 120703)\n",
      "('https://www.youtube.com/watch?v=Ory3dT4WA6w', 120703)\n",
      "('https://www.public-health.uiowa.edu/prc/logic-model-active-ottumwa-2/', 120703)\n",
      "('https://www.public-health.uiowa.edu/prc/faqs/', 120703)\n",
      "('https://www.public-health.uiowa.edu/prc/active-ottumwa-media-coverage-2/', 120703)\n",
      "('https://www.public-health.uiowa.edu/prc/wp-content/uploads/2017/01/AdaptationPlanningTool-Instructions.pdf', 120703)\n",
      "('https://www.public-health.uiowa.edu/prc/using-evidence-based-practices/', 120703)\n",
      "('https://www.public-health.uiowa.edu/prc/cdc-clear-communication-index/', 120703)\n",
      "('https://www.public-health.uiowa.edu/prc/wp-content/uploads/2017/01/EBI-Resources.pdf', 120703)\n",
      "('https://www.public-health.uiowa.edu/prc/presentations/', 120703)\n",
      "('https://www.public-health.uiowa.edu/prc/wp-content/uploads/2017/01/EBI-Webinar-Slides.pdf', 120703)\n"
     ]
    },
    {
     "name": "stdout",
     "output_type": "stream",
     "text": [
      "('https://www.public-health.uiowa.edu/prc/center-media/', 120703)\n",
      "('https://www.public-health.uiowa.edu/prc/active-ottumwa-fact-sheets-espanol/', 120703)\n",
      "('https://www.public-health.uiowa.edu/prc/publications-technical-reports/', 120703)\n",
      "('https://www.public-health.uiowa.edu/prc/ui-collaborators/', 120703)\n",
      "('https://www.public-health.uiowa.edu/prc/sab/', 120703)\n",
      "('https://www.public-health.uiowa.edu/prc/ui-prc-logic-model/', 120703)\n",
      "('https://www.public-health.uiowa.edu/prc/past/', 120703)\n",
      "('https://www.public-health.uiowa.edu/prc/pilot-projects/', 120703)\n",
      "('https://www.public-health.uiowa.edu/prc/former-student-profiles/', 120703)\n",
      "('https://www.public-health.uiowa.edu/prc/mission/', 120703)\n",
      "('https://www.public-health.uiowa.edu/prc/past-core-research-projects/', 120703)\n",
      "('https://www.public-health.uiowa.edu/prc/active-ottumwa/', 120703)\n",
      "('https://www.public-health.uiowa.edu/prc/core-research-projects/', 120703)\n",
      "('https://www.public-health.uiowa.edu/prc/current/', 120703)\n",
      "('https://www.public-health.uiowa.edu/prc/ottumwa-health-survey-results/', 120703)\n",
      "('https://www.public-health.uiowa.edu/prc/iab/', 120703)\n",
      "('https://www.public-health.uiowa.edu/prc/tools-and-resources/', 120703)\n",
      "('https://www.public-health.uiowa.edu/prc/prc-30th-anniversary/', 120703)\n",
      "('https://www.public-health.uiowa.edu/prc/timeline/', 120703)\n",
      "('https://www.public-health.uiowa.edu/prc/active-ottumwa-fact-sheets/', 120703)\n",
      "('https://www.public-health.uiowa.edu/prc/community-advisory-board/', 120703)\n",
      "('https://www.public-health.uiowa.edu/prc/about/', 120703)\n",
      "('https://www.public-health.uiowa.edu/prc/active-ottumwa-faqs/', 120703)\n",
      "('https://www.public-health.uiowa.edu/prc/training-links/', 120703)\n",
      "('https://www.public-health.uiowa.edu/prc/wp-content/uploads/2017/01/AdaptationPlanningToolExample.pdf', 120703)\n",
      "('https://www.public-health.uiowa.edu/prc/directions/', 120703)\n",
      "('https://www.public-health.uiowa.edu/prc/organizational-chart/', 120703)\n",
      "('https://www.public-health.uiowa.edu/prc/publications-presentations-and-reports/', 120703)\n",
      "('https://www.public-health.uiowa.edu/prc/community-highlight-story-active-ottumwa/', 120703)\n",
      "('https://www.public-health.uiowa.edu/prc/projects/', 120703)\n",
      "('https://www.youtube.com/watch?v=Ory3dT4WA6w', 120703)\n",
      "('https://www.public-health.uiowa.edu/prc/logic-model-active-ottumwa-2/', 120703)\n",
      "('https://www.public-health.uiowa.edu/prc/faqs/', 120703)\n",
      "('https://www.public-health.uiowa.edu/prc/active-ottumwa-media-coverage-2/', 120703)\n",
      "('https://www.public-health.uiowa.edu/prc/wp-content/uploads/2017/01/AdaptationPlanningTool-Instructions.pdf', 120703)\n",
      "('https://www.public-health.uiowa.edu/prc/using-evidence-based-practices/', 120703)\n",
      "('https://www.public-health.uiowa.edu/prc/cdc-clear-communication-index/', 120703)\n",
      "('https://www.public-health.uiowa.edu/prc/wp-content/uploads/2017/01/EBI-Resources.pdf', 120703)\n",
      "('https://www.public-health.uiowa.edu/prc/presentations/', 120703)\n",
      "('https://www.public-health.uiowa.edu/prc/wp-content/uploads/2017/01/EBI-Webinar-Slides.pdf', 120703)\n",
      "('https://www.public-health.uiowa.edu/prc/center-media/', 120703)\n",
      "('https://www.public-health.uiowa.edu/prc/active-ottumwa-fact-sheets-espanol/', 120703)\n",
      "('https://www.public-health.uiowa.edu/prc/publications-technical-reports/', 120703)\n",
      "('https://www.public-health.uiowa.edu/prc/ui-collaborators/', 120703)\n",
      "('https://www.public-health.uiowa.edu/prc/sab/', 120703)\n",
      "('https://www.public-health.uiowa.edu/prc/ui-prc-logic-model/', 120703)\n",
      "('https://www.public-health.uiowa.edu/prc/past/', 120703)\n",
      "('https://www.public-health.uiowa.edu/prc/pilot-projects/', 120703)\n",
      "('https://www.public-health.uiowa.edu/prc/former-student-profiles/', 120703)\n",
      "('https://www.public-health.uiowa.edu/prc/mission/', 120703)\n",
      "('https://www.public-health.uiowa.edu/prc/past-core-research-projects/', 120703)\n",
      "('https://www.public-health.uiowa.edu/prc/active-ottumwa/', 120703)\n",
      "('https://www.public-health.uiowa.edu/prc/core-research-projects/', 120703)\n",
      "('https://www.public-health.uiowa.edu/prc/current/', 120703)\n",
      "('https://www.public-health.uiowa.edu/prc/ottumwa-health-survey-results/', 120703)\n",
      "('https://www.public-health.uiowa.edu/prc/iab/', 120703)\n",
      "('https://www.public-health.uiowa.edu/prc/tools-and-resources/', 120703)\n",
      "('https://www.public-health.uiowa.edu/prc/prc-30th-anniversary/', 120703)\n",
      "('https://www.public-health.uiowa.edu/prc/timeline/', 120703)\n",
      "('https://www.public-health.uiowa.edu/prc/active-ottumwa-fact-sheets/', 120703)\n",
      "('https://www.public-health.uiowa.edu/prc/community-advisory-board/', 120703)\n",
      "('https://www.public-health.uiowa.edu/prc/about/', 120703)\n",
      "('https://www.public-health.uiowa.edu/prc/active-ottumwa-faqs/', 120703)\n",
      "('https://www.public-health.uiowa.edu/prc/training-links/', 120703)\n",
      "('https://www.public-health.uiowa.edu/prc/wp-content/uploads/2017/01/AdaptationPlanningToolExample.pdf', 120703)\n",
      "('https://www.public-health.uiowa.edu/prc/directions/', 120703)\n",
      "('https://www.public-health.uiowa.edu/prc/organizational-chart/', 120703)\n",
      "('https://www.public-health.uiowa.edu/prc/publications-presentations-and-reports/', 120703)\n",
      "('https://www.public-health.uiowa.edu/prc/community-highlight-story-active-ottumwa/', 120703)\n",
      "('https://www.public-health.uiowa.edu/prc/projects/', 120703)\n",
      "('https://www.youtube.com/watch?v=Ory3dT4WA6w', 120703)\n",
      "('https://www.public-health.uiowa.edu/prc/logic-model-active-ottumwa-2/', 120703)\n",
      "('https://www.public-health.uiowa.edu/prc/faqs/', 120703)\n",
      "('https://www.public-health.uiowa.edu/prc/active-ottumwa-media-coverage-2/', 120703)\n",
      "('https://www.public-health.uiowa.edu/prc/wp-content/uploads/2017/01/AdaptationPlanningTool-Instructions.pdf', 120703)\n",
      "('https://www.public-health.uiowa.edu/prc/using-evidence-based-practices/', 120703)\n",
      "('https://www.public-health.uiowa.edu/prc/cdc-clear-communication-index/', 120703)\n",
      "('https://www.public-health.uiowa.edu/prc/wp-content/uploads/2017/01/EBI-Resources.pdf', 120703)\n",
      "('https://www.public-health.uiowa.edu/prc/presentations/', 120703)\n",
      "('https://www.public-health.uiowa.edu/prc/wp-content/uploads/2017/01/EBI-Webinar-Slides.pdf', 120703)\n",
      "('https://www.public-health.uiowa.edu/prc/center-media/', 120703)\n",
      "('https://www.public-health.uiowa.edu/prc/active-ottumwa-fact-sheets-espanol/', 120703)\n",
      "('https://www.public-health.uiowa.edu/prc/publications-technical-reports/', 120703)\n",
      "('https://www.public-health.uiowa.edu/prc/ui-collaborators/', 120703)\n",
      "('https://www.public-health.uiowa.edu/prc/sab/', 120703)\n",
      "('https://www.public-health.uiowa.edu/prc/ui-prc-logic-model/', 120703)\n",
      "('https://www.public-health.uiowa.edu/prc/past/', 120703)\n",
      "('https://www.public-health.uiowa.edu/prc/pilot-projects/', 120703)\n",
      "('https://www.public-health.uiowa.edu/prc/former-student-profiles/', 120703)\n",
      "('https://www.public-health.uiowa.edu/prc/mission/', 120703)\n",
      "('https://www.public-health.uiowa.edu/prc/past-core-research-projects/', 120703)\n",
      "('https://www.public-health.uiowa.edu/prc/active-ottumwa/', 120703)\n",
      "('https://www.public-health.uiowa.edu/prc/core-research-projects/', 120703)\n",
      "('https://www.public-health.uiowa.edu/prc/current/', 120703)\n",
      "('https://www.public-health.uiowa.edu/prc/ottumwa-health-survey-results/', 120703)\n",
      "('https://www.public-health.uiowa.edu/prc/iab/', 120703)\n",
      "('https://www.public-health.uiowa.edu/prc/tools-and-resources/', 120703)\n",
      "('https://www.public-health.uiowa.edu/prc/prc-30th-anniversary/', 120703)\n",
      "('https://www.public-health.uiowa.edu/prc/timeline/', 120703)\n",
      "('https://www.public-health.uiowa.edu/prc/active-ottumwa-fact-sheets/', 120703)\n",
      "('https://www.public-health.uiowa.edu/prc/community-advisory-board/', 120703)\n",
      "('https://www.public-health.uiowa.edu/prc/about/', 120703)\n",
      "('https://www.public-health.uiowa.edu/prc/active-ottumwa-faqs/', 120703)\n",
      "('https://www.public-health.uiowa.edu/prc/training-links/', 120703)\n",
      "('https://www.public-health.uiowa.edu/prc/wp-content/uploads/2017/01/AdaptationPlanningToolExample.pdf', 120703)\n",
      "('https://www.public-health.uiowa.edu/prc/directions/', 120703)\n",
      "('https://www.public-health.uiowa.edu/prc/organizational-chart/', 120703)\n",
      "('https://www.public-health.uiowa.edu/prc/publications-presentations-and-reports/', 120703)\n",
      "('https://www.public-health.uiowa.edu/prc/community-highlight-story-active-ottumwa/', 120703)\n",
      "('https://www.public-health.uiowa.edu/prc/projects/', 120703)\n",
      "('https://www.youtube.com/watch?v=Ory3dT4WA6w', 120703)\n",
      "('https://www.public-health.uiowa.edu/prc/logic-model-active-ottumwa-2/', 120703)\n",
      "('https://www.public-health.uiowa.edu/prc/faqs/', 120703)\n",
      "('https://www.public-health.uiowa.edu/prc/active-ottumwa-media-coverage-2/', 120703)\n",
      "('https://www.public-health.uiowa.edu/prc/wp-content/uploads/2017/01/AdaptationPlanningTool-Instructions.pdf', 120703)\n",
      "('https://www.public-health.uiowa.edu/prc/using-evidence-based-practices/', 120703)\n",
      "('https://www.public-health.uiowa.edu/prc/cdc-clear-communication-index/', 120703)\n",
      "('https://www.public-health.uiowa.edu/prc/wp-content/uploads/2017/01/EBI-Resources.pdf', 120703)\n",
      "('https://www.public-health.uiowa.edu/prc/presentations/', 120703)\n",
      "('https://www.public-health.uiowa.edu/prc/wp-content/uploads/2017/01/EBI-Webinar-Slides.pdf', 120703)\n"
     ]
    },
    {
     "name": "stdout",
     "output_type": "stream",
     "text": [
      "('https://www.public-health.uiowa.edu/prc/center-media/', 120703)\n",
      "('https://www.public-health.uiowa.edu/prc/active-ottumwa-fact-sheets-espanol/', 120703)\n",
      "('https://www.public-health.uiowa.edu/prc/publications-technical-reports/', 120703)\n",
      "('https://www.public-health.uiowa.edu/prc/ui-collaborators/', 120703)\n",
      "('https://www.public-health.uiowa.edu/prc/sab/', 120703)\n",
      "('https://www.public-health.uiowa.edu/prc/ui-prc-logic-model/', 120703)\n",
      "('https://www.public-health.uiowa.edu/prc/past/', 120703)\n",
      "('https://www.public-health.uiowa.edu/prc/pilot-projects/', 120703)\n",
      "('https://www.public-health.uiowa.edu/prc/former-student-profiles/', 120703)\n",
      "('https://www.public-health.uiowa.edu/prc/mission/', 120703)\n",
      "('https://www.public-health.uiowa.edu/prc/past-core-research-projects/', 120703)\n",
      "('https://www.public-health.uiowa.edu/prc/active-ottumwa/', 120703)\n",
      "('https://www.public-health.uiowa.edu/prc/core-research-projects/', 120703)\n",
      "('https://www.public-health.uiowa.edu/prc/current/', 120703)\n",
      "('https://www.public-health.uiowa.edu/prc/ottumwa-health-survey-results/', 120703)\n",
      "('https://www.public-health.uiowa.edu/prc/iab/', 120703)\n",
      "('https://www.public-health.uiowa.edu/prc/tools-and-resources/', 120703)\n",
      "('https://www.public-health.uiowa.edu/prc/prc-30th-anniversary/', 120703)\n",
      "('https://www.public-health.uiowa.edu/prc/timeline/', 120703)\n",
      "('https://www.public-health.uiowa.edu/prc/active-ottumwa-fact-sheets/', 120703)\n",
      "('https://www.public-health.uiowa.edu/prc/community-advisory-board/', 120703)\n",
      "('https://www.public-health.uiowa.edu/prc/about/', 120703)\n",
      "('https://www.public-health.uiowa.edu/prc/active-ottumwa-faqs/', 120703)\n",
      "('https://www.public-health.uiowa.edu/prc/training-links/', 120703)\n",
      "('https://www.public-health.uiowa.edu/prc/wp-content/uploads/2017/01/AdaptationPlanningToolExample.pdf', 120703)\n",
      "('https://www.public-health.uiowa.edu/prc/directions/', 120703)\n",
      "('https://www.public-health.uiowa.edu/prc/organizational-chart/', 120703)\n",
      "('https://www.public-health.uiowa.edu/prc/publications-presentations-and-reports/', 120703)\n",
      "('https://www.public-health.uiowa.edu/prc/community-highlight-story-active-ottumwa/', 120703)\n",
      "('https://www.public-health.uiowa.edu/prc/projects/', 120703)\n",
      "('https://www.youtube.com/watch?v=Ory3dT4WA6w', 120703)\n",
      "('https://www.public-health.uiowa.edu/prc/logic-model-active-ottumwa-2/', 120703)\n",
      "('https://www.public-health.uiowa.edu/prc/faqs/', 120703)\n",
      "('https://www.public-health.uiowa.edu/prc/active-ottumwa-media-coverage-2/', 120703)\n",
      "('https://www.public-health.uiowa.edu/prc/wp-content/uploads/2017/01/AdaptationPlanningTool-Instructions.pdf', 120703)\n",
      "('https://www.public-health.uiowa.edu/prc/using-evidence-based-practices/', 120703)\n",
      "('https://www.public-health.uiowa.edu/prc/cdc-clear-communication-index/', 120703)\n",
      "('https://www.public-health.uiowa.edu/prc/wp-content/uploads/2017/01/EBI-Resources.pdf', 120703)\n",
      "('https://www.public-health.uiowa.edu/prc/presentations/', 120703)\n",
      "('https://www.public-health.uiowa.edu/prc/wp-content/uploads/2017/01/EBI-Webinar-Slides.pdf', 120703)\n",
      "('https://www.public-health.uiowa.edu/prc/center-media/', 120703)\n",
      "('https://www.public-health.uiowa.edu/prc/active-ottumwa-fact-sheets-espanol/', 120703)\n",
      "('https://www.public-health.uiowa.edu/prc/publications-technical-reports/', 120703)\n",
      "('https://www.public-health.uiowa.edu/prc/ui-collaborators/', 120703)\n",
      "('https://www.public-health.uiowa.edu/prc/sab/', 120703)\n",
      "('https://www.public-health.uiowa.edu/prc/ui-prc-logic-model/', 120703)\n",
      "('https://www.public-health.uiowa.edu/prc/past/', 120703)\n",
      "('https://www.public-health.uiowa.edu/prc/pilot-projects/', 120703)\n",
      "('https://www.public-health.uiowa.edu/prc/former-student-profiles/', 120703)\n",
      "('https://www.public-health.uiowa.edu/prc/mission/', 120703)\n",
      "('https://www.public-health.uiowa.edu/prc/past-core-research-projects/', 120703)\n",
      "('https://www.public-health.uiowa.edu/prc/active-ottumwa/', 120703)\n",
      "('https://www.public-health.uiowa.edu/prc/core-research-projects/', 120703)\n",
      "('https://www.public-health.uiowa.edu/prc/current/', 120703)\n",
      "('https://www.public-health.uiowa.edu/prc/ottumwa-health-survey-results/', 120703)\n",
      "('https://www.public-health.uiowa.edu/prc/iab/', 120703)\n",
      "('https://www.public-health.uiowa.edu/prc/tools-and-resources/', 120703)\n",
      "('https://www.public-health.uiowa.edu/prc/prc-30th-anniversary/', 120703)\n",
      "('https://www.public-health.uiowa.edu/prc/timeline/', 120703)\n",
      "('https://www.public-health.uiowa.edu/prc/active-ottumwa-fact-sheets/', 120703)\n",
      "('https://www.public-health.uiowa.edu/prc/community-advisory-board/', 120703)\n",
      "('https://www.public-health.uiowa.edu/prc/about/', 120703)\n",
      "('https://www.public-health.uiowa.edu/prc/active-ottumwa-faqs/', 120703)\n",
      "('https://www.public-health.uiowa.edu/prc/training-links/', 120703)\n",
      "('https://www.public-health.uiowa.edu/prc/wp-content/uploads/2017/01/AdaptationPlanningToolExample.pdf', 120703)\n",
      "('https://www.public-health.uiowa.edu/prc/directions/', 120703)\n",
      "('https://www.public-health.uiowa.edu/prc/organizational-chart/', 120703)\n",
      "('https://www.public-health.uiowa.edu/prc/publications-presentations-and-reports/', 120703)\n",
      "('https://www.public-health.uiowa.edu/prc/community-highlight-story-active-ottumwa/', 120703)\n",
      "('https://www.public-health.uiowa.edu/prc/projects/', 120703)\n",
      "('https://www.youtube.com/watch?v=Ory3dT4WA6w', 120703)\n",
      "('https://www.public-health.uiowa.edu/prc/logic-model-active-ottumwa-2/', 120703)\n",
      "('https://www.public-health.uiowa.edu/prc/faqs/', 120703)\n",
      "('https://www.public-health.uiowa.edu/prc/active-ottumwa-media-coverage-2/', 120703)\n",
      "('https://www.public-health.uiowa.edu/prc/wp-content/uploads/2017/01/AdaptationPlanningTool-Instructions.pdf', 120703)\n",
      "('https://www.public-health.uiowa.edu/prc/using-evidence-based-practices/', 120703)\n",
      "('https://www.public-health.uiowa.edu/prc/cdc-clear-communication-index/', 120703)\n",
      "('https://www.public-health.uiowa.edu/prc/wp-content/uploads/2017/01/EBI-Resources.pdf', 120703)\n",
      "('https://www.public-health.uiowa.edu/prc/presentations/', 120703)\n",
      "('https://www.public-health.uiowa.edu/prc/wp-content/uploads/2017/01/EBI-Webinar-Slides.pdf', 120703)\n",
      "('https://www.public-health.uiowa.edu/prc/center-media/', 120703)\n",
      "('https://www.public-health.uiowa.edu/prc/active-ottumwa-fact-sheets-espanol/', 120703)\n",
      "('https://www.public-health.uiowa.edu/prc/publications-technical-reports/', 120703)\n",
      "('https://www.public-health.uiowa.edu/prc/ui-collaborators/', 120703)\n",
      "('https://www.public-health.uiowa.edu/prc/sab/', 120703)\n",
      "('https://www.public-health.uiowa.edu/prc/ui-prc-logic-model/', 120703)\n",
      "('https://www.public-health.uiowa.edu/prc/past/', 120703)\n",
      "('https://www.public-health.uiowa.edu/prc/pilot-projects/', 120703)\n",
      "('https://www.public-health.uiowa.edu/prc/former-student-profiles/', 120703)\n",
      "('https://www.public-health.uiowa.edu/prc/mission/', 120703)\n",
      "('https://www.public-health.uiowa.edu/prc/past-core-research-projects/', 120703)\n",
      "('https://www.public-health.uiowa.edu/prc/active-ottumwa/', 120703)\n",
      "('https://www.public-health.uiowa.edu/prc/core-research-projects/', 120703)\n",
      "('https://www.public-health.uiowa.edu/prc/current/', 120703)\n",
      "('https://www.public-health.uiowa.edu/prc/ottumwa-health-survey-results/', 120703)\n",
      "('https://www.public-health.uiowa.edu/prc/iab/', 120703)\n",
      "('https://www.public-health.uiowa.edu/prc/tools-and-resources/', 120703)\n",
      "('https://www.public-health.uiowa.edu/prc/prc-30th-anniversary/', 120703)\n",
      "('https://www.public-health.uiowa.edu/prc/timeline/', 120703)\n",
      "('https://www.public-health.uiowa.edu/prc/active-ottumwa-fact-sheets/', 120703)\n",
      "('https://www.public-health.uiowa.edu/prc/community-advisory-board/', 120703)\n",
      "('https://www.public-health.uiowa.edu/prc/about/', 120703)\n",
      "('https://www.public-health.uiowa.edu/prc/active-ottumwa-faqs/', 120703)\n",
      "('https://www.public-health.uiowa.edu/prc/training-links/', 120703)\n",
      "('https://www.public-health.uiowa.edu/prc/wp-content/uploads/2017/01/AdaptationPlanningToolExample.pdf', 120703)\n",
      "('https://www.public-health.uiowa.edu/prc/directions/', 120703)\n",
      "('https://www.public-health.uiowa.edu/prc/organizational-chart/', 120703)\n",
      "('https://www.public-health.uiowa.edu/prc/publications-presentations-and-reports/', 120703)\n",
      "('https://www.public-health.uiowa.edu/prc/community-highlight-story-active-ottumwa/', 120703)\n",
      "('https://www.public-health.uiowa.edu/prc/projects/', 120703)\n",
      "('https://www.youtube.com/watch?v=Ory3dT4WA6w', 120703)\n",
      "('https://www.public-health.uiowa.edu/prc/logic-model-active-ottumwa-2/', 120703)\n",
      "('https://www.public-health.uiowa.edu/prc/faqs/', 120703)\n",
      "('https://www.public-health.uiowa.edu/prc/active-ottumwa-media-coverage-2/', 120703)\n",
      "('https://www.public-health.uiowa.edu/prc/wp-content/uploads/2017/01/AdaptationPlanningTool-Instructions.pdf', 120703)\n",
      "('https://www.public-health.uiowa.edu/prc/using-evidence-based-practices/', 120703)\n",
      "('https://www.public-health.uiowa.edu/prc/cdc-clear-communication-index/', 120703)\n",
      "('https://www.public-health.uiowa.edu/prc/wp-content/uploads/2017/01/EBI-Resources.pdf', 120703)\n"
     ]
    },
    {
     "name": "stdout",
     "output_type": "stream",
     "text": [
      "('https://www.public-health.uiowa.edu/prc/presentations/', 120703)\n",
      "('https://www.public-health.uiowa.edu/prc/wp-content/uploads/2017/01/EBI-Webinar-Slides.pdf', 120703)\n",
      "('https://www.public-health.uiowa.edu/prc/center-media/', 120703)\n",
      "('https://www.public-health.uiowa.edu/prc/active-ottumwa-fact-sheets-espanol/', 120703)\n",
      "('https://www.public-health.uiowa.edu/prc/publications-technical-reports/', 120703)\n",
      "('https://www.public-health.uiowa.edu/prc/ui-collaborators/', 120703)\n",
      "('https://www.public-health.uiowa.edu/prc/sab/', 120703)\n",
      "('https://www.public-health.uiowa.edu/prc/ui-prc-logic-model/', 120703)\n",
      "('https://www.public-health.uiowa.edu/prc/past/', 120703)\n",
      "('https://www.public-health.uiowa.edu/prc/pilot-projects/', 120703)\n",
      "('https://www.public-health.uiowa.edu/prc/former-student-profiles/', 120703)\n",
      "('https://www.public-health.uiowa.edu/prc/mission/', 120703)\n",
      "('https://www.public-health.uiowa.edu/prc/past-core-research-projects/', 120703)\n",
      "('https://www.public-health.uiowa.edu/prc/active-ottumwa/', 120703)\n",
      "('https://www.public-health.uiowa.edu/prc/core-research-projects/', 120703)\n",
      "('https://www.public-health.uiowa.edu/prc/current/', 120703)\n",
      "('https://www.public-health.uiowa.edu/prc/ottumwa-health-survey-results/', 120703)\n",
      "('https://www.public-health.uiowa.edu/prc/iab/', 120703)\n",
      "('https://www.public-health.uiowa.edu/prc/tools-and-resources/', 120703)\n",
      "('https://www.public-health.uiowa.edu/prc/prc-30th-anniversary/', 120703)\n",
      "('https://www.public-health.uiowa.edu/prc/timeline/', 120703)\n",
      "('https://www.public-health.uiowa.edu/prc/active-ottumwa-fact-sheets/', 120703)\n",
      "('https://www.public-health.uiowa.edu/prc/community-advisory-board/', 120703)\n",
      "('https://www.public-health.uiowa.edu/prc/about/', 120703)\n",
      "('https://www.public-health.uiowa.edu/prc/active-ottumwa-faqs/', 120703)\n",
      "('https://www.public-health.uiowa.edu/prc/training-links/', 120703)\n",
      "('https://www.public-health.uiowa.edu/prc/wp-content/uploads/2017/01/AdaptationPlanningToolExample.pdf', 120703)\n",
      "('https://www.public-health.uiowa.edu/prc/directions/', 120703)\n",
      "('https://www.public-health.uiowa.edu/prc/organizational-chart/', 120703)\n",
      "('https://www.public-health.uiowa.edu/prc/publications-presentations-and-reports/', 120703)\n",
      "('https://www.public-health.uiowa.edu/prc/community-highlight-story-active-ottumwa/', 120703)\n",
      "('https://www.public-health.uiowa.edu/prc/projects/', 120703)\n",
      "('https://www.youtube.com/watch?v=Ory3dT4WA6w', 120703)\n",
      "('https://www.public-health.uiowa.edu/prc/logic-model-active-ottumwa-2/', 120703)\n",
      "('https://www.public-health.uiowa.edu/prc/faqs/', 120703)\n",
      "('https://www.public-health.uiowa.edu/prc/active-ottumwa-media-coverage-2/', 120703)\n",
      "('https://www.public-health.uiowa.edu/prc/wp-content/uploads/2017/01/AdaptationPlanningTool-Instructions.pdf', 120703)\n",
      "('https://www.public-health.uiowa.edu/prc/using-evidence-based-practices/', 120703)\n",
      "('https://www.public-health.uiowa.edu/prc/cdc-clear-communication-index/', 120703)\n",
      "('https://www.public-health.uiowa.edu/prc/wp-content/uploads/2017/01/EBI-Resources.pdf', 120703)\n",
      "('https://www.public-health.uiowa.edu/prc/presentations/', 120703)\n",
      "('https://www.public-health.uiowa.edu/prc/wp-content/uploads/2017/01/EBI-Webinar-Slides.pdf', 120703)\n",
      "('https://www.public-health.uiowa.edu/prc/center-media/', 120703)\n",
      "('https://www.public-health.uiowa.edu/prc/active-ottumwa-fact-sheets-espanol/', 120703)\n",
      "('https://www.public-health.uiowa.edu/prc/publications-technical-reports/', 120703)\n",
      "('https://www.public-health.uiowa.edu/prc/ui-collaborators/', 120703)\n",
      "('https://www.public-health.uiowa.edu/prc/sab/', 120703)\n",
      "('https://www.public-health.uiowa.edu/prc/ui-prc-logic-model/', 120703)\n",
      "('https://www.public-health.uiowa.edu/prc/past/', 120703)\n",
      "('https://www.public-health.uiowa.edu/prc/pilot-projects/', 120703)\n",
      "('https://www.public-health.uiowa.edu/prc/former-student-profiles/', 120703)\n",
      "('https://www.public-health.uiowa.edu/prc/mission/', 120703)\n",
      "('https://www.public-health.uiowa.edu/prc/past-core-research-projects/', 120703)\n",
      "('https://www.public-health.uiowa.edu/prc/active-ottumwa/', 120703)\n",
      "('https://www.public-health.uiowa.edu/prc/core-research-projects/', 120703)\n",
      "('https://www.public-health.uiowa.edu/prc/current/', 120703)\n",
      "('https://www.public-health.uiowa.edu/prc/ottumwa-health-survey-results/', 120703)\n",
      "('https://www.public-health.uiowa.edu/prc/iab/', 120703)\n",
      "('https://www.public-health.uiowa.edu/prc/tools-and-resources/', 120703)\n",
      "('https://www.public-health.uiowa.edu/prc/prc-30th-anniversary/', 120703)\n",
      "('https://www.public-health.uiowa.edu/prc/timeline/', 120703)\n",
      "('https://www.public-health.uiowa.edu/prc/active-ottumwa-fact-sheets/', 120703)\n",
      "('https://www.public-health.uiowa.edu/prc/community-advisory-board/', 120703)\n",
      "('https://www.public-health.uiowa.edu/prc/about/', 120703)\n",
      "('https://www.public-health.uiowa.edu/prc/active-ottumwa-faqs/', 120703)\n",
      "('https://www.public-health.uiowa.edu/prc/training-links/', 120703)\n",
      "('https://www.public-health.uiowa.edu/prc/wp-content/uploads/2017/01/AdaptationPlanningToolExample.pdf', 120703)\n",
      "('https://www.public-health.uiowa.edu/prc/directions/', 120703)\n",
      "('https://www.public-health.uiowa.edu/prc/organizational-chart/', 120703)\n",
      "('https://www.public-health.uiowa.edu/prc/publications-presentations-and-reports/', 120703)\n",
      "('https://www.public-health.uiowa.edu/prc/community-highlight-story-active-ottumwa/', 120703)\n",
      "('https://www.public-health.uiowa.edu/prc/projects/', 120703)\n",
      "('https://www.youtube.com/watch?v=Ory3dT4WA6w', 120703)\n",
      "('https://www.public-health.uiowa.edu/prc/logic-model-active-ottumwa-2/', 120703)\n",
      "('https://www.public-health.uiowa.edu/prc/faqs/', 120703)\n",
      "('https://www.public-health.uiowa.edu/prc/active-ottumwa-media-coverage-2/', 120703)\n",
      "('https://www.public-health.uiowa.edu/prc/wp-content/uploads/2017/01/AdaptationPlanningTool-Instructions.pdf', 120703)\n",
      "('https://www.public-health.uiowa.edu/prc/using-evidence-based-practices/', 120703)\n",
      "('https://www.public-health.uiowa.edu/prc/cdc-clear-communication-index/', 120703)\n",
      "('https://www.public-health.uiowa.edu/prc/wp-content/uploads/2017/01/EBI-Resources.pdf', 120703)\n",
      "('https://www.public-health.uiowa.edu/prc/presentations/', 120703)\n",
      "('https://www.public-health.uiowa.edu/prc/wp-content/uploads/2017/01/EBI-Webinar-Slides.pdf', 120703)\n",
      "('https://www.public-health.uiowa.edu/prc/center-media/', 120703)\n",
      "('https://www.public-health.uiowa.edu/prc/active-ottumwa-fact-sheets-espanol/', 120703)\n",
      "('https://www.public-health.uiowa.edu/prc/publications-technical-reports/', 120703)\n",
      "('https://www.public-health.uiowa.edu/prc/ui-collaborators/', 120703)\n",
      "('https://www.public-health.uiowa.edu/prc/sab/', 120703)\n",
      "('https://www.public-health.uiowa.edu/prc/ui-prc-logic-model/', 120703)\n",
      "('https://www.public-health.uiowa.edu/prc/past/', 120703)\n",
      "('https://www.public-health.uiowa.edu/prc/pilot-projects/', 120703)\n",
      "('https://www.public-health.uiowa.edu/prc/former-student-profiles/', 120703)\n"
     ]
    }
   ],
   "source": [
    "#d =degree , a for values \n",
    "#od = outdegree, out_degree for values  \n",
    "#ind = indegree, in_degree for vales \n",
    "in_degree=sorted(in_degree,reverse=True)\n",
    "for i in range(0,100):\n",
    "    p = in_degree[i]\n",
    "    for p1 in ind:\n",
    "        if ind[p1]==p:\n",
    "            print(p1,p)"
   ]
  },
  {
   "cell_type": "code",
   "execution_count": null,
   "metadata": {},
   "outputs": [
    {
     "name": "stdout",
     "output_type": "stream",
     "text": [
      "('https://ir.uiowa.edu/authors.html', 23868)\n",
      "('http://ir.uiowa.edu/authors.html', 23868)\n",
      "('https://ir.uiowa.edu/authors.html', 23868)\n",
      "('http://ir.uiowa.edu/authors.html', 23868)\n",
      "('http://ir.uiowa.edu/2009.html', 4000)\n",
      "('https://ir.uiowa.edu/2009.html', 4000)\n",
      "('http://ir.uiowa.edu/2009.html', 4000)\n",
      "('https://ir.uiowa.edu/2009.html', 4000)\n",
      "('http://ir.uiowa.edu/2015.6.html', 3987)\n",
      "('https://ir.uiowa.edu/2017.html', 3986)\n",
      "('http://ir.uiowa.edu/2015.4.html', 3973)\n",
      "('http://ir.uiowa.edu/2015.3.html', 3971)\n",
      "('https://ir.uiowa.edu/2015.html', 3953)\n",
      "('http://ir.uiowa.edu/2015.html', 3953)\n",
      "('https://ir.uiowa.edu/2015.html', 3953)\n",
      "('http://ir.uiowa.edu/2015.html', 3953)\n",
      "('http://ir.uiowa.edu/2015.5.html', 3902)\n",
      "('http://ir.uiowa.edu/2012.html', 3831)\n",
      "('https://ir.uiowa.edu/2012.html', 3831)\n",
      "('http://ir.uiowa.edu/2012.html', 3831)\n",
      "('https://ir.uiowa.edu/2012.html', 3831)\n",
      "('http://ir.uiowa.edu/2014.3.html', 3751)\n",
      "('https://ir.uiowa.edu/2010.html', 3731)\n",
      "('http://ir.uiowa.edu/2010.html', 3731)\n",
      "('https://ir.uiowa.edu/2010.html', 3731)\n",
      "('http://ir.uiowa.edu/2010.html', 3731)\n",
      "('http://ir.uiowa.edu/2015.2.html', 3714)\n",
      "('http://ir.uiowa.edu/2014.html', 3643)\n",
      "('https://ir.uiowa.edu/2014.html', 3643)\n",
      "('http://ir.uiowa.edu/2014.html', 3643)\n",
      "('https://ir.uiowa.edu/2014.html', 3643)\n",
      "('http://ir.uiowa.edu/2014.4.html', 3546)\n",
      "('http://ir.uiowa.edu/2014.2.html', 3500)\n",
      "('https://ir.uiowa.edu/2016.html', 3446)\n",
      "('http://grads.art.uiowa.edu/gradarchive.php?program=Painting+and+Drawing', 3346)\n",
      "('https://grads.art.uiowa.edu/gradarchive.php?program=Painting+and+Drawing', 3346)\n",
      "('http://grads.art.uiowa.edu/gradarchive.php?program=Painting+and+Drawing', 3346)\n",
      "('https://grads.art.uiowa.edu/gradarchive.php?program=Painting+and+Drawing', 3346)\n",
      "('http://ir.uiowa.edu/2014.5.html', 3337)\n",
      "('http://ir.uiowa.edu/2011.html', 2730)\n",
      "('https://ir.uiowa.edu/2011.html', 2730)\n",
      "('http://ir.uiowa.edu/2011.html', 2730)\n",
      "('https://ir.uiowa.edu/2011.html', 2730)\n",
      "('http://grads.art.uiowa.edu/gradarchive.php?program=Printmaking', 2674)\n",
      "('https://ir.uiowa.edu/2013.html', 2610)\n",
      "('http://ir.uiowa.edu/2013.html', 2610)\n",
      "('https://ir.uiowa.edu/2013.html', 2610)\n",
      "('http://ir.uiowa.edu/2013.html', 2610)\n",
      "('https://ir.uiowa.edu/2017.2.html', 2409)\n",
      "('http://ir.uiowa.edu/2013.2.html', 2346)\n",
      "('http://grads.art.uiowa.edu/gradarchive.php?program=Photography', 2044)\n",
      "('http://ir.uiowa.edu/2011.2.html', 1893)\n",
      "('http://grads.art.uiowa.edu/gradarchive.php?program=Ceramics', 1419)\n",
      "('http://grads.art.uiowa.edu/gradarchive.php?program=Graphic+Design', 1355)\n",
      "('http://grads.art.uiowa.edu/gradarchive.php?program=Jewelry+and+Metal+Arts', 1289)\n",
      "('https://careers.uiowa.edu/state-state-list', 1255)\n",
      "('http://grads.art.uiowa.edu/gradarchive.php?program=Intermedia', 1205)\n",
      "('http://grads.art.uiowa.edu/gradarchive.php?program=3D+Design', 1186)\n",
      "('http://grads.art.uiowa.edu/gradarchive.php?program=Sculpture', 1155)\n",
      "('http://events.uiowa.edu/calendar', 1140)\n",
      "('http://ir.uiowa.edu/etd/index.8.html', 1038)\n",
      "('http://ir.uiowa.edu/etd/index.6.html', 1038)\n",
      "('http://ir.uiowa.edu/etd/index.5.html', 1038)\n",
      "('http://ir.uiowa.edu/etd/index.8.html', 1038)\n",
      "('http://ir.uiowa.edu/etd/index.6.html', 1038)\n",
      "('http://ir.uiowa.edu/etd/index.5.html', 1038)\n",
      "('http://ir.uiowa.edu/etd/index.8.html', 1038)\n",
      "('http://ir.uiowa.edu/etd/index.6.html', 1038)\n",
      "('http://ir.uiowa.edu/etd/index.5.html', 1038)\n",
      "('http://ir.uiowa.edu/etd/index.4.html', 1037)\n",
      "('http://ir.uiowa.edu/etd/index.2.html', 1037)\n",
      "('http://ir.uiowa.edu/etd/index.7.html', 1037)\n",
      "('http://ir.uiowa.edu/etd/index.html', 1037)\n",
      "('http://ir.uiowa.edu/etd/', 1037)\n",
      "('http://ir.uiowa.edu/etd/index.4.html', 1037)\n",
      "('http://ir.uiowa.edu/etd/index.2.html', 1037)\n",
      "('http://ir.uiowa.edu/etd/index.7.html', 1037)\n",
      "('http://ir.uiowa.edu/etd/index.html', 1037)\n",
      "('http://ir.uiowa.edu/etd/', 1037)\n",
      "('http://ir.uiowa.edu/etd/index.4.html', 1037)\n",
      "('http://ir.uiowa.edu/etd/index.2.html', 1037)\n",
      "('http://ir.uiowa.edu/etd/index.7.html', 1037)\n",
      "('http://ir.uiowa.edu/etd/index.html', 1037)\n",
      "('http://ir.uiowa.edu/etd/', 1037)\n",
      "('http://ir.uiowa.edu/etd/index.4.html', 1037)\n",
      "('http://ir.uiowa.edu/etd/index.2.html', 1037)\n",
      "('http://ir.uiowa.edu/etd/index.7.html', 1037)\n",
      "('http://ir.uiowa.edu/etd/index.html', 1037)\n",
      "('http://ir.uiowa.edu/etd/', 1037)\n",
      "('http://ir.uiowa.edu/etd/index.4.html', 1037)\n",
      "('http://ir.uiowa.edu/etd/index.2.html', 1037)\n",
      "('http://ir.uiowa.edu/etd/index.7.html', 1037)\n",
      "('http://ir.uiowa.edu/etd/index.html', 1037)\n",
      "('http://ir.uiowa.edu/etd/', 1037)\n",
      "('http://ir.uiowa.edu/etd/index.3.html', 1036)\n",
      "('http://ir.uiowa.edu/etd/index.9.html', 1034)\n",
      "('https://opsmanual.uiowa.edu/table-of-contents', 1007)\n",
      "('http://morrisedition.lib.uiowa.edu/sitemap.html', 996)\n",
      "('http://ir.uiowa.edu/2009.2.html', 977)\n",
      "('https://uiowa.edu/cnm/cnm/cnm/index-composers', 895)\n",
      "('https://uiowa.edu/cnm/cnm/cnm/cnm/cnm/index-composers', 895)\n",
      "('https://uiowa.edu/cnm/index-composers', 895)\n",
      "('https://uiowa.edu/cnm/cnm/cnm/cnm/cnm/cnm/index-composers', 895)\n",
      "('https://uiowa.edu/cnm/cnm/cnm/cnm/index-composers', 895)\n",
      "('https://uiowa.edu/cnm/cnm/cnm/index-composers', 895)\n",
      "('https://uiowa.edu/cnm/cnm/cnm/cnm/cnm/index-composers', 895)\n",
      "('https://uiowa.edu/cnm/index-composers', 895)\n",
      "('https://uiowa.edu/cnm/cnm/cnm/cnm/cnm/cnm/index-composers', 895)\n",
      "('https://uiowa.edu/cnm/cnm/cnm/cnm/index-composers', 895)\n",
      "('https://uiowa.edu/cnm/cnm/cnm/index-composers', 895)\n",
      "('https://uiowa.edu/cnm/cnm/cnm/cnm/cnm/index-composers', 895)\n",
      "('https://uiowa.edu/cnm/index-composers', 895)\n",
      "('https://uiowa.edu/cnm/cnm/cnm/cnm/cnm/cnm/index-composers', 895)\n",
      "('https://uiowa.edu/cnm/cnm/cnm/cnm/index-composers', 895)\n",
      "('https://uiowa.edu/cnm/cnm/cnm/index-composers', 895)\n",
      "('https://uiowa.edu/cnm/cnm/cnm/cnm/cnm/index-composers', 895)\n",
      "('https://uiowa.edu/cnm/index-composers', 895)\n",
      "('https://uiowa.edu/cnm/cnm/cnm/cnm/cnm/cnm/index-composers', 895)\n",
      "('https://uiowa.edu/cnm/cnm/cnm/cnm/index-composers', 895)\n",
      "('https://uiowa.edu/cnm/cnm/cnm/index-composers', 895)\n",
      "('https://uiowa.edu/cnm/cnm/cnm/cnm/cnm/index-composers', 895)\n",
      "('https://uiowa.edu/cnm/index-composers', 895)\n",
      "('https://uiowa.edu/cnm/cnm/cnm/cnm/cnm/cnm/index-composers', 895)\n",
      "('https://uiowa.edu/cnm/cnm/cnm/cnm/index-composers', 895)\n",
      "('http://guides.lib.uiowa.edu/c.php?g=131940&p=862258', 851)\n",
      "('http://guides.lib.uiowa.edu/databases', 851)\n",
      "('http://guides.lib.uiowa.edu/c.php?g=131940&p=862258', 851)\n",
      "('http://guides.lib.uiowa.edu/databases', 851)\n",
      "('https://library.law.uiowa.edu/electronic-resources', 770)\n",
      "('http://ir.uiowa.edu/etd/index.11.html', 707)\n",
      "('http://catalog.registrar.uiowa.edu/liberal-arts-sciences/music/', 687)\n",
      "('http://catalog.registrar.uiowa.edu/liberal-arts-sciences/english/english-ba/', 679)\n",
      "('http://webeye.ophth.uiowa.edu/eye-health/index.htm', 671)\n",
      "('http://medcom.uiowa.edu/biochem/category/people/faculty/john-dagle/', 669)\n",
      "('https://provost.uiowa.edu/strategic-initiative-task-force-graduate-education-report-appendices', 645)\n",
      "('http://medcom.uiowa.edu/biochem/category/people/faculty/ronald-weigel/', 645)\n",
      "('https://provost.uiowa.edu/strategic-initiative-task-force-graduate-education-report-appendices', 645)\n",
      "('http://medcom.uiowa.edu/biochem/category/people/faculty/ronald-weigel/', 645)\n",
      "('http://medcom.uiowa.edu/biochem/category/people/faculty/bryce-plapp/', 634)\n",
      "('http://catalog.registrar.uiowa.edu/courses/mus/', 625)\n",
      "('http://ir.uiowa.edu/2015.7.html', 625)\n",
      "('http://catalog.registrar.uiowa.edu/courses/mus/', 625)\n",
      "('http://ir.uiowa.edu/2015.7.html', 625)\n",
      "('http://medcom.uiowa.edu/biochem/category/people/faculty/liping-yu/', 618)\n",
      "('http://ir.uiowa.edu/etd/index.10.html', 615)\n",
      "('http://medcom.uiowa.edu/biochem/category/people/faculty/meng-wu/', 605)\n",
      "('https://medicine.uiowa.edu/pediatrics/profile/jeffrey-murray', 601)\n",
      "('https://blog.lib.uiowa.edu/hardinmd/category/picsno/page/7/', 587)\n",
      "('http://medcom.uiowa.edu/biochem/category/people/faculty/debra-schwinn/', 581)\n",
      "('http://medcom.uiowa.edu/biochem/category/people/faculty/adrian-elcock/', 562)\n",
      "('https://blog.lib.uiowa.edu/hardinmd/category/google-book-search/page/2/', 560)\n",
      "('http://medcom.uiowa.edu/biochem/category/people/faculty/m-ashley-spies/', 552)\n",
      "('https://blog.lib.uiowa.edu/hardinmd/category/twitter/page/3/', 549)\n",
      "('https://uiowa.edu/facultysenate/facultysenate/facultysenate/meetings/meeting-archive', 547)\n",
      "('https://uiowa.edu/facultysenate/meetings/meeting-archive', 547)\n",
      "('https://uiowa.edu/facultysenate/facultysenate/meetings/meeting-archive', 547)\n"
     ]
    },
    {
     "name": "stdout",
     "output_type": "stream",
     "text": [
      "('https://uiowa.edu/facultysenate/facultysenate/facultysenate/meetings/meeting-archive', 547)\n",
      "('https://uiowa.edu/facultysenate/meetings/meeting-archive', 547)\n",
      "('https://uiowa.edu/facultysenate/facultysenate/meetings/meeting-archive', 547)\n",
      "('https://uiowa.edu/facultysenate/facultysenate/facultysenate/meetings/meeting-archive', 547)\n",
      "('https://uiowa.edu/facultysenate/meetings/meeting-archive', 547)\n",
      "('https://uiowa.edu/facultysenate/facultysenate/meetings/meeting-archive', 547)\n",
      "('http://catalog.registrar.uiowa.edu/liberal-arts-sciences/health-human-physiology/sport-recreation-management-bs/', 545)\n",
      "('https://blog.lib.uiowa.edu/hardinmd/page/13/', 544)\n",
      "('https://blog.lib.uiowa.edu/hardinmd/category/uncategorized/page/13/', 544)\n",
      "('http://catalog.registrar.uiowa.edu/courses/rels/', 544)\n",
      "('https://blog.lib.uiowa.edu/hardinmd/author/rumsey/page/13/', 544)\n",
      "('https://blog.lib.uiowa.edu/hardinmd/page/13/', 544)\n",
      "('https://blog.lib.uiowa.edu/hardinmd/category/uncategorized/page/13/', 544)\n",
      "('http://catalog.registrar.uiowa.edu/courses/rels/', 544)\n",
      "('https://blog.lib.uiowa.edu/hardinmd/author/rumsey/page/13/', 544)\n",
      "('https://blog.lib.uiowa.edu/hardinmd/page/13/', 544)\n",
      "('https://blog.lib.uiowa.edu/hardinmd/category/uncategorized/page/13/', 544)\n",
      "('http://catalog.registrar.uiowa.edu/courses/rels/', 544)\n",
      "('https://blog.lib.uiowa.edu/hardinmd/author/rumsey/page/13/', 544)\n",
      "('https://blog.lib.uiowa.edu/hardinmd/page/13/', 544)\n",
      "('https://blog.lib.uiowa.edu/hardinmd/category/uncategorized/page/13/', 544)\n",
      "('http://catalog.registrar.uiowa.edu/courses/rels/', 544)\n",
      "('https://blog.lib.uiowa.edu/hardinmd/author/rumsey/page/13/', 544)\n",
      "('http://catalog.registrar.uiowa.edu/liberal-arts-sciences/anthropology/anthropology-bs/', 540)\n",
      "('http://catalog.registrar.uiowa.edu/liberal-arts-sciences/communication-studies/communication-studies-ba/', 532)\n",
      "('http://medcom.uiowa.edu/biochem/category/people/faculty/andrew-norris/', 532)\n",
      "('http://catalog.registrar.uiowa.edu/liberal-arts-sciences/communication-studies/communication-studies-ba/', 532)\n",
      "('http://medcom.uiowa.edu/biochem/category/people/faculty/andrew-norris/', 532)\n",
      "('http://catalog.registrar.uiowa.edu/liberal-arts-sciences/anthropology/anthropology-ba/', 531)\n",
      "('http://catalog.registrar.uiowa.edu/liberal-arts-sciences/classics/ancient-civilization-ba/', 531)\n",
      "('http://catalog.registrar.uiowa.edu/liberal-arts-sciences/anthropology/anthropology-ba/', 531)\n",
      "('http://catalog.registrar.uiowa.edu/liberal-arts-sciences/classics/ancient-civilization-ba/', 531)\n",
      "('http://events.uiowa.edu/', 529)\n",
      "('http://events.uiowa.edu/?utm_source=Page%20Menu&utm_medium=MasterCalendar&utm_campaign=UI%20Home%20Page', 529)\n",
      "('https://events.uiowa.edu', 529)\n",
      "('http://events.uiowa.edu/', 529)\n",
      "('http://events.uiowa.edu/?utm_source=Page%20Menu&utm_medium=MasterCalendar&utm_campaign=UI%20Home%20Page', 529)\n",
      "('https://events.uiowa.edu', 529)\n",
      "('http://events.uiowa.edu/', 529)\n",
      "('http://events.uiowa.edu/?utm_source=Page%20Menu&utm_medium=MasterCalendar&utm_campaign=UI%20Home%20Page', 529)\n",
      "('https://events.uiowa.edu', 529)\n",
      "('http://catalog.registrar.uiowa.edu/liberal-arts-sciences/spanish-portuguese/spanish-ba/', 526)\n"
     ]
    }
   ],
   "source": [
    "out_degree=sorted(out_degree,reverse=True)\n",
    "for i in range(0,100):\n",
    "    p = out_degree[i]\n",
    "    for p1 in od:\n",
    "        if od[p1]==p:\n",
    "            print(p1,p)\n",
    "# pages with highest out degree are domain of ir.uiowa.edu\n",
    "#and some pages which have events"
   ]
  },
  {
   "cell_type": "code",
   "execution_count": null,
   "metadata": {
    "collapsed": true
   },
   "outputs": [],
   "source": []
  }
 ],
 "metadata": {
  "kernelspec": {
   "display_name": "Python 2",
   "language": "python",
   "name": "python2"
  },
  "language_info": {
   "codemirror_mode": {
    "name": "ipython",
    "version": 2
   },
   "file_extension": ".py",
   "mimetype": "text/x-python",
   "name": "python",
   "nbconvert_exporter": "python",
   "pygments_lexer": "ipython2",
   "version": "2.7.14"
  }
 },
 "nbformat": 4,
 "nbformat_minor": 2
}
